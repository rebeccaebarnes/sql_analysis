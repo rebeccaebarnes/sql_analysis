{
 "cells": [
  {
   "cell_type": "markdown",
   "metadata": {},
   "source": [
    "# SQL Analysis Development Notebook\n",
    "\n",
    "This notebook is used for testing code concepts for the SQL Analysis module."
   ]
  },
  {
   "cell_type": "markdown",
   "metadata": {},
   "source": [
    "## Table of Contents\n",
    "\n",
    "<ol>\n",
    "    <li><a href='#start'>Modifying Class Dictionary</a></li>\n",
    "    <li><a href='#create'>Create Tables</a></li>\n",
    "    <li><a href='#test'>Test Functionality</a></li>\n",
    "    <li><a href='#summary'>Summarize Function</a></li>\n",
    "</ol>"
   ]
  },
  {
   "cell_type": "markdown",
   "metadata": {},
   "source": [
    "<a id='start'></a>\n",
    "## Modifying Class Dictionary"
   ]
  },
  {
   "cell_type": "code",
   "execution_count": 1,
   "metadata": {},
   "outputs": [],
   "source": [
    "class DictTest:\n",
    "    def __init__(self):\n",
    "        self.my_dict = {}\n",
    "        self.label = 'count'\n",
    "    \n",
    "    def run_test(self, value):\n",
    "        if value > 10:\n",
    "            self.my_dict[self.label] = value"
   ]
  },
  {
   "cell_type": "code",
   "execution_count": 2,
   "metadata": {},
   "outputs": [],
   "source": [
    "tester = DictTest()\n",
    "\n",
    "my_list = [1, 15, 6, 8, 20, 13]\n",
    "my_labels = ['abc', 'xyz', 'def', 'lmn', 'ijk', 'str']\n",
    "\n",
    "for value, label in zip(my_list, my_labels):\n",
    "    tester.label = label\n",
    "    tester.run_test(value)"
   ]
  },
  {
   "cell_type": "code",
   "execution_count": 3,
   "metadata": {},
   "outputs": [
    {
     "data": {
      "text/plain": [
       "{'xyz': 15, 'ijk': 20, 'str': 13}"
      ]
     },
     "execution_count": 3,
     "metadata": {},
     "output_type": "execute_result"
    }
   ],
   "source": [
    "tester.my_dict"
   ]
  },
  {
   "cell_type": "markdown",
   "metadata": {},
   "source": [
    "<a id='create'></a>\n",
    "## Create Tables"
   ]
  },
  {
   "cell_type": "code",
   "execution_count": 2,
   "metadata": {},
   "outputs": [],
   "source": [
    "from importlib import reload\n",
    "import numpy as np\n",
    "import pandas as pd\n",
    "from sqlalchemy import types\n",
    "import seaborn as sns\n",
    "import matplotlib.pyplot as plt\n",
    "\n",
    "import sql_analysis as san\n",
    "from sql_config_example import ENGINE_DVD\n",
    "\n",
    "%matplotlib inline"
   ]
  },
  {
   "cell_type": "code",
   "execution_count": 148,
   "metadata": {},
   "outputs": [],
   "source": [
    "create_str = \"\\\n",
    "SELECT \\\n",
    "    CAST(EXTRACT(YEAR FROM r.rental_date) AS TEXT) || '-' ||  CAST(EXTRACT(MONTH FROM r.rental_date) AS TEXT) AS ss_dt \\\n",
    "    , r.rental_id \\\n",
    "    , r.rental_date \\\n",
    "    , f.title \\\n",
    "    , f.length \\\n",
    "    , f.rating \\\n",
    "FROM rental r \\\n",
    "    JOIN inventory i \\\n",
    "        ON i.inventory_id = r.inventory_id \\\n",
    "    JOIN film f \\\n",
    "        ON f.film_id = i.film_id\"\n",
    "\n",
    "df = san.sql_query(create_str, 'dvd')"
   ]
  },
  {
   "cell_type": "code",
   "execution_count": 30,
   "metadata": {},
   "outputs": [
    {
     "data": {
      "text/html": [
       "<div>\n",
       "<style scoped>\n",
       "    .dataframe tbody tr th:only-of-type {\n",
       "        vertical-align: middle;\n",
       "    }\n",
       "\n",
       "    .dataframe tbody tr th {\n",
       "        vertical-align: top;\n",
       "    }\n",
       "\n",
       "    .dataframe thead th {\n",
       "        text-align: right;\n",
       "    }\n",
       "</style>\n",
       "<table border=\"1\" class=\"dataframe\">\n",
       "  <thead>\n",
       "    <tr style=\"text-align: right;\">\n",
       "      <th></th>\n",
       "      <th>ss_dt</th>\n",
       "      <th>rental_id</th>\n",
       "      <th>rental_date</th>\n",
       "      <th>title</th>\n",
       "      <th>length</th>\n",
       "      <th>rating</th>\n",
       "    </tr>\n",
       "  </thead>\n",
       "  <tbody>\n",
       "    <tr>\n",
       "      <th>0</th>\n",
       "      <td>2005-5</td>\n",
       "      <td>2</td>\n",
       "      <td>2005-05-24 22:54:33</td>\n",
       "      <td>Freaky Pocus</td>\n",
       "      <td>126</td>\n",
       "      <td>R</td>\n",
       "    </tr>\n",
       "    <tr>\n",
       "      <th>1</th>\n",
       "      <td>2005-5</td>\n",
       "      <td>3</td>\n",
       "      <td>2005-05-24 23:03:39</td>\n",
       "      <td>Graduate Lord</td>\n",
       "      <td>156</td>\n",
       "      <td>G</td>\n",
       "    </tr>\n",
       "    <tr>\n",
       "      <th>2</th>\n",
       "      <td>2005-5</td>\n",
       "      <td>4</td>\n",
       "      <td>2005-05-24 23:04:41</td>\n",
       "      <td>Love Suicides</td>\n",
       "      <td>181</td>\n",
       "      <td>R</td>\n",
       "    </tr>\n",
       "    <tr>\n",
       "      <th>3</th>\n",
       "      <td>2005-5</td>\n",
       "      <td>5</td>\n",
       "      <td>2005-05-24 23:05:21</td>\n",
       "      <td>Idols Snatchers</td>\n",
       "      <td>84</td>\n",
       "      <td>NC-17</td>\n",
       "    </tr>\n",
       "    <tr>\n",
       "      <th>4</th>\n",
       "      <td>2005-5</td>\n",
       "      <td>6</td>\n",
       "      <td>2005-05-24 23:08:07</td>\n",
       "      <td>Mystic Truman</td>\n",
       "      <td>92</td>\n",
       "      <td>NC-17</td>\n",
       "    </tr>\n",
       "  </tbody>\n",
       "</table>\n",
       "</div>"
      ],
      "text/plain": [
       "    ss_dt  rental_id         rental_date            title  length rating\n",
       "0  2005-5          2 2005-05-24 22:54:33     Freaky Pocus     126      R\n",
       "1  2005-5          3 2005-05-24 23:03:39    Graduate Lord     156      G\n",
       "2  2005-5          4 2005-05-24 23:04:41    Love Suicides     181      R\n",
       "3  2005-5          5 2005-05-24 23:05:21  Idols Snatchers      84  NC-17\n",
       "4  2005-5          6 2005-05-24 23:08:07    Mystic Truman      92  NC-17"
      ]
     },
     "execution_count": 30,
     "metadata": {},
     "output_type": "execute_result"
    }
   ],
   "source": [
    "df.head()"
   ]
  },
  {
   "cell_type": "code",
   "execution_count": 19,
   "metadata": {},
   "outputs": [
    {
     "data": {
      "text/plain": [
       "count                   16044\n",
       "unique                  15815\n",
       "top       2006-02-14 15:16:03\n",
       "freq                      182\n",
       "first     2005-05-24 22:53:30\n",
       "last      2006-02-14 15:16:03\n",
       "Name: rental_date, dtype: object"
      ]
     },
     "execution_count": 19,
     "metadata": {},
     "output_type": "execute_result"
    }
   ],
   "source": [
    "df.rental_date.describe()"
   ]
  },
  {
   "cell_type": "markdown",
   "metadata": {},
   "source": [
    "Generate random timestamps via this [StackOverflow answer](https://stackoverflow.com/questions/553303/generate-a-random-date-between-two-other-dates)."
   ]
  },
  {
   "cell_type": "code",
   "execution_count": 20,
   "metadata": {},
   "outputs": [],
   "source": [
    "from random import randrange\n",
    "from datetime import timedelta\n",
    "\n",
    "def random_date(start, end):\n",
    "    \"\"\"\n",
    "    This function will return a random datetime between two datetime \n",
    "    objects.\n",
    "    \"\"\"\n",
    "    delta = end - start\n",
    "    int_delta = (delta.days * 24 * 60 * 60) + delta.seconds\n",
    "    random_second = randrange(int_delta)\n",
    "    return start + timedelta(seconds=random_second)"
   ]
  },
  {
   "cell_type": "code",
   "execution_count": 23,
   "metadata": {},
   "outputs": [],
   "source": [
    "random_dates = []\n",
    "for _ in np.arange(df.shape[0]):\n",
    "    random_dates.append(random_date(df.rental_date.min(),\n",
    "                                    df.rental_date.max()))"
   ]
  },
  {
   "cell_type": "markdown",
   "metadata": {},
   "source": [
    "Create alternate view for comparison testing."
   ]
  },
  {
   "cell_type": "code",
   "execution_count": 31,
   "metadata": {},
   "outputs": [],
   "source": [
    "alt_rental_view = df.copy()\n",
    "alt_rental_view['rental_date'] = random_dates\n",
    "alt_rental_view['ss_date'] = alt_rental_view['rental_date'].dt.year.astype(str) \\\n",
    "                             + '-' + alt_rental_view['rental_date'].dt.month.astype(str)\n",
    "alt_rental_view.drop('ss_dt', axis=1, inplace=True)"
   ]
  },
  {
   "cell_type": "code",
   "execution_count": 32,
   "metadata": {},
   "outputs": [
    {
     "data": {
      "text/html": [
       "<div>\n",
       "<style scoped>\n",
       "    .dataframe tbody tr th:only-of-type {\n",
       "        vertical-align: middle;\n",
       "    }\n",
       "\n",
       "    .dataframe tbody tr th {\n",
       "        vertical-align: top;\n",
       "    }\n",
       "\n",
       "    .dataframe thead th {\n",
       "        text-align: right;\n",
       "    }\n",
       "</style>\n",
       "<table border=\"1\" class=\"dataframe\">\n",
       "  <thead>\n",
       "    <tr style=\"text-align: right;\">\n",
       "      <th></th>\n",
       "      <th>rental_id</th>\n",
       "      <th>rental_date</th>\n",
       "      <th>title</th>\n",
       "      <th>length</th>\n",
       "      <th>rating</th>\n",
       "      <th>ss_date</th>\n",
       "    </tr>\n",
       "  </thead>\n",
       "  <tbody>\n",
       "    <tr>\n",
       "      <th>0</th>\n",
       "      <td>2</td>\n",
       "      <td>2005-12-02 22:58:47</td>\n",
       "      <td>Freaky Pocus</td>\n",
       "      <td>126</td>\n",
       "      <td>R</td>\n",
       "      <td>2005-12</td>\n",
       "    </tr>\n",
       "    <tr>\n",
       "      <th>1</th>\n",
       "      <td>3</td>\n",
       "      <td>2005-11-04 04:06:39</td>\n",
       "      <td>Graduate Lord</td>\n",
       "      <td>156</td>\n",
       "      <td>G</td>\n",
       "      <td>2005-11</td>\n",
       "    </tr>\n",
       "    <tr>\n",
       "      <th>2</th>\n",
       "      <td>4</td>\n",
       "      <td>2005-10-08 19:37:49</td>\n",
       "      <td>Love Suicides</td>\n",
       "      <td>181</td>\n",
       "      <td>R</td>\n",
       "      <td>2005-10</td>\n",
       "    </tr>\n",
       "    <tr>\n",
       "      <th>3</th>\n",
       "      <td>5</td>\n",
       "      <td>2005-09-03 13:17:21</td>\n",
       "      <td>Idols Snatchers</td>\n",
       "      <td>84</td>\n",
       "      <td>NC-17</td>\n",
       "      <td>2005-9</td>\n",
       "    </tr>\n",
       "    <tr>\n",
       "      <th>4</th>\n",
       "      <td>6</td>\n",
       "      <td>2005-10-31 02:40:27</td>\n",
       "      <td>Mystic Truman</td>\n",
       "      <td>92</td>\n",
       "      <td>NC-17</td>\n",
       "      <td>2005-10</td>\n",
       "    </tr>\n",
       "  </tbody>\n",
       "</table>\n",
       "</div>"
      ],
      "text/plain": [
       "   rental_id         rental_date            title  length rating  ss_date\n",
       "0          2 2005-12-02 22:58:47     Freaky Pocus     126      R  2005-12\n",
       "1          3 2005-11-04 04:06:39    Graduate Lord     156      G  2005-11\n",
       "2          4 2005-10-08 19:37:49    Love Suicides     181      R  2005-10\n",
       "3          5 2005-09-03 13:17:21  Idols Snatchers      84  NC-17   2005-9\n",
       "4          6 2005-10-31 02:40:27    Mystic Truman      92  NC-17  2005-10"
      ]
     },
     "execution_count": 32,
     "metadata": {},
     "output_type": "execute_result"
    }
   ],
   "source": [
    "alt_rental_view.head()"
   ]
  },
  {
   "cell_type": "markdown",
   "metadata": {},
   "source": [
    "Create tables in database"
   ]
  },
  {
   "cell_type": "code",
   "execution_count": 39,
   "metadata": {},
   "outputs": [],
   "source": [
    "alt_rental_view.to_sql('alt_rental_view', \n",
    "                       ENGINE_DVD, \n",
    "                       if_exists='replace', \n",
    "                       index=False,\n",
    "                       dtype={\"rental_id\": types.Integer(),\n",
    "                              \"rental_date\": types.Date(),\n",
    "                              \"title\": types.VARCHAR(length=255),\n",
    "                              \"length\": types.Integer(),\n",
    "                              \"rating\": types.VARCHAR(length=6),\n",
    "                              \"ss_date\": types.VARCHAR(length=8)})"
   ]
  },
  {
   "cell_type": "code",
   "execution_count": 41,
   "metadata": {},
   "outputs": [],
   "source": [
    "df.to_sql('rental_view',\n",
    "          ENGINE_DVD,\n",
    "          if_exists='replace',\n",
    "          dtype={\"rental_id\": types.Integer(),\n",
    "                 \"ss_dt\": types.VARCHAR(length=8),\n",
    "                 \"rental_date\": types.Date(),\n",
    "                 \"title\": types.VARCHAR(length=255),\n",
    "                 \"length\": types.Integer(),\n",
    "                 \"rating\": types.VARCHAR(length=6)})"
   ]
  },
  {
   "cell_type": "markdown",
   "metadata": {},
   "source": [
    "Create a third test table."
   ]
  },
  {
   "cell_type": "code",
   "execution_count": 150,
   "metadata": {},
   "outputs": [
    {
     "data": {
      "text/plain": [
       "(16044, 6)"
      ]
     },
     "execution_count": 150,
     "metadata": {},
     "output_type": "execute_result"
    }
   ],
   "source": [
    "df.shape"
   ]
  },
  {
   "cell_type": "code",
   "execution_count": 151,
   "metadata": {},
   "outputs": [],
   "source": [
    "drop_ind = np.random.randint(0, df.shape[0], 200)"
   ]
  },
  {
   "cell_type": "code",
   "execution_count": 152,
   "metadata": {},
   "outputs": [],
   "source": [
    "alt_sim_rental_view = df.drop(drop_ind).copy()"
   ]
  },
  {
   "cell_type": "code",
   "execution_count": 155,
   "metadata": {},
   "outputs": [
    {
     "data": {
      "text/plain": [
       "Index(['ss_dt', 'rental_id', 'rental_date', 'title', 'length', 'rating'], dtype='object')"
      ]
     },
     "execution_count": 155,
     "metadata": {},
     "output_type": "execute_result"
    }
   ],
   "source": [
    "df.columns"
   ]
  },
  {
   "cell_type": "code",
   "execution_count": 156,
   "metadata": {},
   "outputs": [],
   "source": [
    "alt_sim_rental_view.columns = ['ss_dt', 'id', 'rental_date', 'movie', 'runtime', 'rating']\n",
    "alt_sim_rental_view.to_sql('alt_sim_rental_view',\n",
    "                           ENGINE_DVD,\n",
    "                           if_exists='replace',\n",
    "                           index=False,\n",
    "                           dtype={\"ss_dt\": types.VARCHAR(length=8),\n",
    "                                  \"id\": types.Integer(),\n",
    "                                  \"rental_date\": types.Date(),\n",
    "                                  \"movie\": types.VARCHAR(length=255),\n",
    "                                  \"runtime\": types.Integer(),\n",
    "                                  \"rating\": types.VARCHAR(length=6)})"
   ]
  },
  {
   "cell_type": "markdown",
   "metadata": {},
   "source": [
    "<a id='test'></a>\n",
    "## Test Functionality"
   ]
  },
  {
   "cell_type": "code",
   "execution_count": 3,
   "metadata": {},
   "outputs": [
    {
     "data": {
      "text/html": [
       "<div>\n",
       "<style scoped>\n",
       "    .dataframe tbody tr th:only-of-type {\n",
       "        vertical-align: middle;\n",
       "    }\n",
       "\n",
       "    .dataframe tbody tr th {\n",
       "        vertical-align: top;\n",
       "    }\n",
       "\n",
       "    .dataframe thead th {\n",
       "        text-align: right;\n",
       "    }\n",
       "</style>\n",
       "<table border=\"1\" class=\"dataframe\">\n",
       "  <thead>\n",
       "    <tr style=\"text-align: right;\">\n",
       "      <th></th>\n",
       "      <th>index</th>\n",
       "      <th>ss_dt</th>\n",
       "      <th>rental_id</th>\n",
       "      <th>rental_date</th>\n",
       "      <th>title</th>\n",
       "      <th>length</th>\n",
       "      <th>rating</th>\n",
       "    </tr>\n",
       "  </thead>\n",
       "  <tbody>\n",
       "    <tr>\n",
       "      <th>0</th>\n",
       "      <td>0</td>\n",
       "      <td>2005-5</td>\n",
       "      <td>2</td>\n",
       "      <td>2005-05-24</td>\n",
       "      <td>Freaky Pocus</td>\n",
       "      <td>126</td>\n",
       "      <td>R</td>\n",
       "    </tr>\n",
       "    <tr>\n",
       "      <th>1</th>\n",
       "      <td>1</td>\n",
       "      <td>2005-5</td>\n",
       "      <td>3</td>\n",
       "      <td>2005-05-24</td>\n",
       "      <td>Graduate Lord</td>\n",
       "      <td>156</td>\n",
       "      <td>G</td>\n",
       "    </tr>\n",
       "    <tr>\n",
       "      <th>2</th>\n",
       "      <td>2</td>\n",
       "      <td>2005-5</td>\n",
       "      <td>4</td>\n",
       "      <td>2005-05-24</td>\n",
       "      <td>Love Suicides</td>\n",
       "      <td>181</td>\n",
       "      <td>R</td>\n",
       "    </tr>\n",
       "    <tr>\n",
       "      <th>3</th>\n",
       "      <td>3</td>\n",
       "      <td>2005-5</td>\n",
       "      <td>5</td>\n",
       "      <td>2005-05-24</td>\n",
       "      <td>Idols Snatchers</td>\n",
       "      <td>84</td>\n",
       "      <td>NC-17</td>\n",
       "    </tr>\n",
       "    <tr>\n",
       "      <th>4</th>\n",
       "      <td>4</td>\n",
       "      <td>2005-5</td>\n",
       "      <td>6</td>\n",
       "      <td>2005-05-24</td>\n",
       "      <td>Mystic Truman</td>\n",
       "      <td>92</td>\n",
       "      <td>NC-17</td>\n",
       "    </tr>\n",
       "  </tbody>\n",
       "</table>\n",
       "</div>"
      ],
      "text/plain": [
       "   index   ss_dt  rental_id rental_date            title  length rating\n",
       "0      0  2005-5          2  2005-05-24     Freaky Pocus     126      R\n",
       "1      1  2005-5          3  2005-05-24    Graduate Lord     156      G\n",
       "2      2  2005-5          4  2005-05-24    Love Suicides     181      R\n",
       "3      3  2005-5          5  2005-05-24  Idols Snatchers      84  NC-17\n",
       "4      4  2005-5          6  2005-05-24    Mystic Truman      92  NC-17"
      ]
     },
     "execution_count": 3,
     "metadata": {},
     "output_type": "execute_result"
    }
   ],
   "source": [
    "rental_view = san.sql_query('SELECT * FROM rental_view', 'dvd')\n",
    "rental_view.head()"
   ]
  },
  {
   "cell_type": "code",
   "execution_count": 4,
   "metadata": {},
   "outputs": [
    {
     "data": {
      "text/html": [
       "<div>\n",
       "<style scoped>\n",
       "    .dataframe tbody tr th:only-of-type {\n",
       "        vertical-align: middle;\n",
       "    }\n",
       "\n",
       "    .dataframe tbody tr th {\n",
       "        vertical-align: top;\n",
       "    }\n",
       "\n",
       "    .dataframe thead th {\n",
       "        text-align: right;\n",
       "    }\n",
       "</style>\n",
       "<table border=\"1\" class=\"dataframe\">\n",
       "  <thead>\n",
       "    <tr style=\"text-align: right;\">\n",
       "      <th></th>\n",
       "      <th>rental_id</th>\n",
       "      <th>rental_date</th>\n",
       "      <th>title</th>\n",
       "      <th>length</th>\n",
       "      <th>rating</th>\n",
       "      <th>ss_date</th>\n",
       "    </tr>\n",
       "  </thead>\n",
       "  <tbody>\n",
       "    <tr>\n",
       "      <th>0</th>\n",
       "      <td>2</td>\n",
       "      <td>2005-12-02</td>\n",
       "      <td>Freaky Pocus</td>\n",
       "      <td>126</td>\n",
       "      <td>R</td>\n",
       "      <td>2005-12</td>\n",
       "    </tr>\n",
       "    <tr>\n",
       "      <th>1</th>\n",
       "      <td>3</td>\n",
       "      <td>2005-11-04</td>\n",
       "      <td>Graduate Lord</td>\n",
       "      <td>156</td>\n",
       "      <td>G</td>\n",
       "      <td>2005-11</td>\n",
       "    </tr>\n",
       "    <tr>\n",
       "      <th>2</th>\n",
       "      <td>4</td>\n",
       "      <td>2005-10-08</td>\n",
       "      <td>Love Suicides</td>\n",
       "      <td>181</td>\n",
       "      <td>R</td>\n",
       "      <td>2005-10</td>\n",
       "    </tr>\n",
       "    <tr>\n",
       "      <th>3</th>\n",
       "      <td>5</td>\n",
       "      <td>2005-09-03</td>\n",
       "      <td>Idols Snatchers</td>\n",
       "      <td>84</td>\n",
       "      <td>NC-17</td>\n",
       "      <td>2005-9</td>\n",
       "    </tr>\n",
       "    <tr>\n",
       "      <th>4</th>\n",
       "      <td>6</td>\n",
       "      <td>2005-10-31</td>\n",
       "      <td>Mystic Truman</td>\n",
       "      <td>92</td>\n",
       "      <td>NC-17</td>\n",
       "      <td>2005-10</td>\n",
       "    </tr>\n",
       "  </tbody>\n",
       "</table>\n",
       "</div>"
      ],
      "text/plain": [
       "   rental_id rental_date            title  length rating  ss_date\n",
       "0          2  2005-12-02     Freaky Pocus     126      R  2005-12\n",
       "1          3  2005-11-04    Graduate Lord     156      G  2005-11\n",
       "2          4  2005-10-08    Love Suicides     181      R  2005-10\n",
       "3          5  2005-09-03  Idols Snatchers      84  NC-17   2005-9\n",
       "4          6  2005-10-31    Mystic Truman      92  NC-17  2005-10"
      ]
     },
     "execution_count": 4,
     "metadata": {},
     "output_type": "execute_result"
    }
   ],
   "source": [
    "alt_rental_view = san.sql_query('SELECT * FROM alt_rental_view', 'dvd')\n",
    "alt_rental_view.head()"
   ]
  },
  {
   "cell_type": "code",
   "execution_count": 5,
   "metadata": {},
   "outputs": [
    {
     "data": {
      "text/html": [
       "<div>\n",
       "<style scoped>\n",
       "    .dataframe tbody tr th:only-of-type {\n",
       "        vertical-align: middle;\n",
       "    }\n",
       "\n",
       "    .dataframe tbody tr th {\n",
       "        vertical-align: top;\n",
       "    }\n",
       "\n",
       "    .dataframe thead th {\n",
       "        text-align: right;\n",
       "    }\n",
       "</style>\n",
       "<table border=\"1\" class=\"dataframe\">\n",
       "  <thead>\n",
       "    <tr style=\"text-align: right;\">\n",
       "      <th></th>\n",
       "      <th>ss_dt</th>\n",
       "      <th>id</th>\n",
       "      <th>rental_date</th>\n",
       "      <th>movie</th>\n",
       "      <th>runtime</th>\n",
       "      <th>rating</th>\n",
       "    </tr>\n",
       "  </thead>\n",
       "  <tbody>\n",
       "    <tr>\n",
       "      <th>0</th>\n",
       "      <td>2005-5</td>\n",
       "      <td>2</td>\n",
       "      <td>2005-05-24</td>\n",
       "      <td>Freaky Pocus</td>\n",
       "      <td>126</td>\n",
       "      <td>R</td>\n",
       "    </tr>\n",
       "    <tr>\n",
       "      <th>1</th>\n",
       "      <td>2005-5</td>\n",
       "      <td>3</td>\n",
       "      <td>2005-05-24</td>\n",
       "      <td>Graduate Lord</td>\n",
       "      <td>156</td>\n",
       "      <td>G</td>\n",
       "    </tr>\n",
       "    <tr>\n",
       "      <th>2</th>\n",
       "      <td>2005-5</td>\n",
       "      <td>4</td>\n",
       "      <td>2005-05-24</td>\n",
       "      <td>Love Suicides</td>\n",
       "      <td>181</td>\n",
       "      <td>R</td>\n",
       "    </tr>\n",
       "    <tr>\n",
       "      <th>3</th>\n",
       "      <td>2005-5</td>\n",
       "      <td>5</td>\n",
       "      <td>2005-05-24</td>\n",
       "      <td>Idols Snatchers</td>\n",
       "      <td>84</td>\n",
       "      <td>NC-17</td>\n",
       "    </tr>\n",
       "    <tr>\n",
       "      <th>4</th>\n",
       "      <td>2005-5</td>\n",
       "      <td>6</td>\n",
       "      <td>2005-05-24</td>\n",
       "      <td>Mystic Truman</td>\n",
       "      <td>92</td>\n",
       "      <td>NC-17</td>\n",
       "    </tr>\n",
       "  </tbody>\n",
       "</table>\n",
       "</div>"
      ],
      "text/plain": [
       "    ss_dt  id rental_date            movie  runtime rating\n",
       "0  2005-5   2  2005-05-24     Freaky Pocus      126      R\n",
       "1  2005-5   3  2005-05-24    Graduate Lord      156      G\n",
       "2  2005-5   4  2005-05-24    Love Suicides      181      R\n",
       "3  2005-5   5  2005-05-24  Idols Snatchers       84  NC-17\n",
       "4  2005-5   6  2005-05-24    Mystic Truman       92  NC-17"
      ]
     },
     "execution_count": 5,
     "metadata": {},
     "output_type": "execute_result"
    }
   ],
   "source": [
    "alt_sim_rental_view = san.sql_query('SELECT * FROM alt_sim_rental_view', 'dvd')\n",
    "alt_sim_rental_view.head()"
   ]
  },
  {
   "cell_type": "code",
   "execution_count": 43,
   "metadata": {
    "scrolled": false
   },
   "outputs": [],
   "source": [
    "reload(san);"
   ]
  },
  {
   "cell_type": "code",
   "execution_count": 25,
   "metadata": {},
   "outputs": [
    {
     "name": "stdout",
     "output_type": "stream",
     "text": [
      "Commencing rental_id query...\n",
      "Query for rental_id complete.\n",
      "\n"
     ]
    },
    {
     "data": {
      "text/html": [
       "<div>\n",
       "<style scoped>\n",
       "    .dataframe tbody tr th:only-of-type {\n",
       "        vertical-align: middle;\n",
       "    }\n",
       "\n",
       "    .dataframe tbody tr th {\n",
       "        vertical-align: top;\n",
       "    }\n",
       "\n",
       "    .dataframe thead th {\n",
       "        text-align: right;\n",
       "    }\n",
       "</style>\n",
       "<table border=\"1\" class=\"dataframe\">\n",
       "  <thead>\n",
       "    <tr style=\"text-align: right;\">\n",
       "      <th></th>\n",
       "      <th>ss_dt</th>\n",
       "      <th>rvw_count</th>\n",
       "      <th>alt_count</th>\n",
       "      <th>sim_count</th>\n",
       "    </tr>\n",
       "  </thead>\n",
       "  <tbody>\n",
       "    <tr>\n",
       "      <th>0</th>\n",
       "      <td>2005-5</td>\n",
       "      <td>1156</td>\n",
       "      <td>417</td>\n",
       "      <td>1140</td>\n",
       "    </tr>\n",
       "    <tr>\n",
       "      <th>1</th>\n",
       "      <td>2005-6</td>\n",
       "      <td>2311</td>\n",
       "      <td>1856</td>\n",
       "      <td>2287</td>\n",
       "    </tr>\n",
       "    <tr>\n",
       "      <th>2</th>\n",
       "      <td>2005-7</td>\n",
       "      <td>6709</td>\n",
       "      <td>1795</td>\n",
       "      <td>6630</td>\n",
       "    </tr>\n",
       "    <tr>\n",
       "      <th>3</th>\n",
       "      <td>2005-8</td>\n",
       "      <td>5686</td>\n",
       "      <td>1835</td>\n",
       "      <td>5610</td>\n",
       "    </tr>\n",
       "    <tr>\n",
       "      <th>4</th>\n",
       "      <td>2006-2</td>\n",
       "      <td>182</td>\n",
       "      <td>857</td>\n",
       "      <td>179</td>\n",
       "    </tr>\n",
       "  </tbody>\n",
       "</table>\n",
       "</div>"
      ],
      "text/plain": [
       "    ss_dt  rvw_count  alt_count  sim_count\n",
       "0  2005-5       1156        417       1140\n",
       "1  2005-6       2311       1856       2287\n",
       "2  2005-7       6709       1795       6630\n",
       "3  2005-8       5686       1835       5610\n",
       "4  2006-2        182        857        179"
      ]
     },
     "execution_count": 25,
     "metadata": {},
     "output_type": "execute_result"
    }
   ],
   "source": [
    "# Specify table fields - \"target\" table is first\n",
    "comparison_fields = ('rental_id','rental_id', 'id')\n",
    "groupby_fields = ('ss_dt', 'ss_date', 'ss_dt')\n",
    "table_names = ('rental_view', 'alt_rental_view', 'alt_sim_rental_view')\n",
    "table_alias = ('rvw', 'alt', 'sim')\n",
    "\n",
    "# Create data gatherer\n",
    "tester = san.SQLUnitTest(comparison_fields,\n",
    "                         groupby_fields,\n",
    "                         table_names,\n",
    "                         table_alias,\n",
    "                         db_server='dvd',\n",
    "                         test_type='count')\n",
    "\n",
    "# Get data for 'count' test\n",
    "count_df = tester.gather_data()\n",
    "count_df"
   ]
  },
  {
   "cell_type": "code",
   "execution_count": 26,
   "metadata": {},
   "outputs": [
    {
     "name": "stdout",
     "output_type": "stream",
     "text": [
      "Commencing test for rental_id...\n",
      "Commencing rental_id query...\n",
      "Query for rental_id complete.\n",
      "\n",
      "PRIORITY REVIEW on alt_rental_id: 67.73\n",
      "Test for rental_id complete.\n",
      "\n"
     ]
    },
    {
     "data": {
      "text/html": [
       "<div>\n",
       "<style scoped>\n",
       "    .dataframe tbody tr th:only-of-type {\n",
       "        vertical-align: middle;\n",
       "    }\n",
       "\n",
       "    .dataframe tbody tr th {\n",
       "        vertical-align: top;\n",
       "    }\n",
       "\n",
       "    .dataframe thead th {\n",
       "        text-align: right;\n",
       "    }\n",
       "</style>\n",
       "<table border=\"1\" class=\"dataframe\">\n",
       "  <thead>\n",
       "    <tr style=\"text-align: right;\">\n",
       "      <th></th>\n",
       "      <th>date</th>\n",
       "      <th>ss_dt</th>\n",
       "      <th>rvw_count</th>\n",
       "      <th>alt_count</th>\n",
       "      <th>sim_count</th>\n",
       "      <th>rvw_minus_alt</th>\n",
       "      <th>perc_diff_alt</th>\n",
       "      <th>rvw_minus_sim</th>\n",
       "      <th>perc_diff_sim</th>\n",
       "    </tr>\n",
       "  </thead>\n",
       "  <tbody>\n",
       "    <tr>\n",
       "      <th>0</th>\n",
       "      <td>04-Aug-19</td>\n",
       "      <td>2005-5</td>\n",
       "      <td>1156</td>\n",
       "      <td>417</td>\n",
       "      <td>1140</td>\n",
       "      <td>739</td>\n",
       "      <td>63.93</td>\n",
       "      <td>16</td>\n",
       "      <td>1.38</td>\n",
       "    </tr>\n",
       "    <tr>\n",
       "      <th>1</th>\n",
       "      <td>04-Aug-19</td>\n",
       "      <td>2005-6</td>\n",
       "      <td>2311</td>\n",
       "      <td>1856</td>\n",
       "      <td>2287</td>\n",
       "      <td>455</td>\n",
       "      <td>19.69</td>\n",
       "      <td>24</td>\n",
       "      <td>1.04</td>\n",
       "    </tr>\n",
       "    <tr>\n",
       "      <th>2</th>\n",
       "      <td>04-Aug-19</td>\n",
       "      <td>2005-7</td>\n",
       "      <td>6709</td>\n",
       "      <td>1795</td>\n",
       "      <td>6630</td>\n",
       "      <td>4914</td>\n",
       "      <td>73.24</td>\n",
       "      <td>79</td>\n",
       "      <td>1.18</td>\n",
       "    </tr>\n",
       "    <tr>\n",
       "      <th>3</th>\n",
       "      <td>04-Aug-19</td>\n",
       "      <td>2005-8</td>\n",
       "      <td>5686</td>\n",
       "      <td>1835</td>\n",
       "      <td>5610</td>\n",
       "      <td>3851</td>\n",
       "      <td>67.73</td>\n",
       "      <td>76</td>\n",
       "      <td>1.34</td>\n",
       "    </tr>\n",
       "    <tr>\n",
       "      <th>4</th>\n",
       "      <td>04-Aug-19</td>\n",
       "      <td>2006-2</td>\n",
       "      <td>182</td>\n",
       "      <td>857</td>\n",
       "      <td>179</td>\n",
       "      <td>-675</td>\n",
       "      <td>-370.88</td>\n",
       "      <td>3</td>\n",
       "      <td>1.65</td>\n",
       "    </tr>\n",
       "  </tbody>\n",
       "</table>\n",
       "</div>"
      ],
      "text/plain": [
       "        date   ss_dt  rvw_count  alt_count  sim_count  rvw_minus_alt  \\\n",
       "0  04-Aug-19  2005-5       1156        417       1140            739   \n",
       "1  04-Aug-19  2005-6       2311       1856       2287            455   \n",
       "2  04-Aug-19  2005-7       6709       1795       6630           4914   \n",
       "3  04-Aug-19  2005-8       5686       1835       5610           3851   \n",
       "4  04-Aug-19  2006-2        182        857        179           -675   \n",
       "\n",
       "   perc_diff_alt  rvw_minus_sim  perc_diff_sim  \n",
       "0          63.93             16           1.38  \n",
       "1          19.69             24           1.04  \n",
       "2          73.24             79           1.18  \n",
       "3          67.73             76           1.34  \n",
       "4        -370.88              3           1.65  "
      ]
     },
     "execution_count": 26,
     "metadata": {},
     "output_type": "execute_result"
    }
   ],
   "source": [
    "tester.run_test()\n",
    "tester._results"
   ]
  },
  {
   "cell_type": "markdown",
   "metadata": {},
   "source": [
    "<a id='summary'></a>\n",
    "## Summarize Function"
   ]
  },
  {
   "cell_type": "code",
   "execution_count": 42,
   "metadata": {},
   "outputs": [
    {
     "name": "stdout",
     "output_type": "stream",
     "text": [
      "Commencing test for count rental_id...\n",
      "   Commencing rental_id query...\n",
      "   Query for rental_id complete.\n",
      "PRIORITY REVIEW on alt_rental_id: 67.73\n",
      "Test for rental_id complete.\n",
      "\n",
      "Commencing test for high_distinct rental_date...\n",
      "   Commencing rental_date query...\n",
      "   Query for rental_date complete.\n",
      "PRIORITY REVIEW on alt_rental_date: 242.5\n",
      "Test for rental_date complete.\n",
      "\n",
      "Commencing test for high_distinct title...\n",
      "   Commencing title query...\n",
      "   Query for title complete.\n",
      "PRIORITY REVIEW on alt_title: 19.1\n",
      "Test for title complete.\n",
      "\n"
     ]
    },
    {
     "data": {
      "image/png": "[encoded data removed]",
      "text/plain": [
       "<Figure size 450x432 with 2 Axes>"
      ]
     },
     "metadata": {
      "needs_background": "light"
     },
     "output_type": "display_data"
    },
    {
     "data": {
      "text/html": [
       "<div>\n",
       "<style scoped>\n",
       "    .dataframe tbody tr th:only-of-type {\n",
       "        vertical-align: middle;\n",
       "    }\n",
       "\n",
       "    .dataframe tbody tr th {\n",
       "        vertical-align: top;\n",
       "    }\n",
       "\n",
       "    .dataframe thead th {\n",
       "        text-align: right;\n",
       "    }\n",
       "</style>\n",
       "<table border=\"1\" class=\"dataframe\">\n",
       "  <thead>\n",
       "    <tr style=\"text-align: right;\">\n",
       "      <th>ss_dt</th>\n",
       "      <th>2005-5</th>\n",
       "      <th>2005-6</th>\n",
       "      <th>2005-7</th>\n",
       "      <th>2005-8</th>\n",
       "      <th>2006-2</th>\n",
       "    </tr>\n",
       "  </thead>\n",
       "  <tbody>\n",
       "    <tr>\n",
       "      <th>rental_id_alt</th>\n",
       "      <td>63.93</td>\n",
       "      <td>19.69</td>\n",
       "      <td>73.24</td>\n",
       "      <td>67.73</td>\n",
       "      <td>-370.88</td>\n",
       "    </tr>\n",
       "    <tr>\n",
       "      <th>rental_id_sim</th>\n",
       "      <td>1.38</td>\n",
       "      <td>1.04</td>\n",
       "      <td>1.18</td>\n",
       "      <td>1.34</td>\n",
       "      <td>1.65</td>\n",
       "    </tr>\n",
       "    <tr>\n",
       "      <th>rental_date_alt</th>\n",
       "      <td>NaN</td>\n",
       "      <td>-275.00</td>\n",
       "      <td>-121.43</td>\n",
       "      <td>-210.00</td>\n",
       "      <td>-1300.00</td>\n",
       "    </tr>\n",
       "    <tr>\n",
       "      <th>rental_date_sim</th>\n",
       "      <td>NaN</td>\n",
       "      <td>NaN</td>\n",
       "      <td>NaN</td>\n",
       "      <td>NaN</td>\n",
       "      <td>NaN</td>\n",
       "    </tr>\n",
       "    <tr>\n",
       "      <th>title_alt</th>\n",
       "      <td>52.48</td>\n",
       "      <td>13.11</td>\n",
       "      <td>19.10</td>\n",
       "      <td>15.66</td>\n",
       "      <td>-225.60</td>\n",
       "    </tr>\n",
       "    <tr>\n",
       "      <th>title_sim</th>\n",
       "      <td>0.73</td>\n",
       "      <td>0.11</td>\n",
       "      <td>NaN</td>\n",
       "      <td>NaN</td>\n",
       "      <td>1.19</td>\n",
       "    </tr>\n",
       "  </tbody>\n",
       "</table>\n",
       "</div>"
      ],
      "text/plain": [
       "ss_dt            2005-5  2005-6  2005-7  2005-8   2006-2\n",
       "rental_id_alt     63.93   19.69   73.24   67.73  -370.88\n",
       "rental_id_sim      1.38    1.04    1.18    1.34     1.65\n",
       "rental_date_alt     NaN -275.00 -121.43 -210.00 -1300.00\n",
       "rental_date_sim     NaN     NaN     NaN     NaN      NaN\n",
       "title_alt         52.48   13.11   19.10   15.66  -225.60\n",
       "title_sim          0.73    0.11     NaN     NaN     1.19"
      ]
     },
     "execution_count": 42,
     "metadata": {},
     "output_type": "execute_result"
    }
   ],
   "source": [
    "# Specify table fields - \"target\" table is first\n",
    "comparison_fields = ('rental_id','rental_id', 'id')\n",
    "groupby_fields = ('ss_dt', 'ss_date', 'ss_dt')\n",
    "table_names = ('rental_view', 'alt_rental_view', 'alt_sim_rental_view')\n",
    "table_alias = ('rvw', 'alt', 'sim')\n",
    "\n",
    "# Create data gatherer\n",
    "tester = san.SQLUnitTest(comparison_fields,\n",
    "                         groupby_fields,\n",
    "                         table_names,\n",
    "                         table_alias,\n",
    "                         db_server='dvd',\n",
    "                         test_type='count')\n",
    "\n",
    "# Run count test\n",
    "tester.run_test()\n",
    "\n",
    "high_distinct = [('rental_date', 'rental_date', 'rental_date'),\n",
    "                 ('title', 'title', 'movie')]\n",
    "\n",
    "for comparison_fields in high_distinct:\n",
    "    tester.comparison_fields = comparison_fields\n",
    "    tester.test_type = 'high_distinct'\n",
    "    \n",
    "    tester.run_test()\n",
    "    \n",
    "tester.summarize_results(save=False)"
   ]
  },
  {
   "cell_type": "markdown",
   "metadata": {},
   "source": [
    "Blank cells mean that the values for the test match."
   ]
  },
  {
   "cell_type": "code",
   "execution_count": 20,
   "metadata": {},
   "outputs": [
    {
     "data": {
      "text/plain": [
       "{'count_alt': 'PRIORITY REVIEW on alt_count: 67.73',\n",
       " 'rental_date_alt': 'PRIORITY REVIEW on alt_rental_date: 242.5',\n",
       " 'title_alt': 'PRIORITY REVIEW on alt_title: 19.1'}"
      ]
     },
     "execution_count": 20,
     "metadata": {},
     "output_type": "execute_result"
    }
   ],
   "source": [
    "tester._priority_review"
   ]
  },
  {
   "cell_type": "code",
   "execution_count": null,
   "metadata": {},
   "outputs": [],
   "source": []
  }
 ],
 "metadata": {
  "kernelspec": {
   "display_name": "Python [conda env:sql]",
   "language": "python",
   "name": "conda-env-sql-py"
  },
  "language_info": {
   "codemirror_mode": {
    "name": "ipython",
    "version": 3
   },
   "file_extension": ".py",
   "mimetype": "text/x-python",
   "name": "python",
   "nbconvert_exporter": "python",
   "pygments_lexer": "ipython3",
   "version": "3.7.3"
  }
 },
 "nbformat": 4,
 "nbformat_minor": 2
}
