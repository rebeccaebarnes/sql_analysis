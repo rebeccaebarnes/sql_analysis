{
 "cells": [
  {
   "cell_type": "markdown",
   "metadata": {},
   "source": [
    "# SQL Analysis Development Notebook\n",
    "\n",
    "This notebook is used for testing code concepts for the SQL Analysis module."
   ]
  },
  {
   "cell_type": "markdown",
   "metadata": {},
   "source": [
    "## Table of Contents\n",
    "\n",
    "<ol>\n",
    "    <li><a href='#start'>Modifying Class Dictionary</a></li>\n",
    "    <li><a href='#create'>Create Tables</a></li>\n",
    "    <li><a href='#test'>Test Functionality</a></li>\n",
    "    <li><a href='#summary'>Summarize Function</a></li>\n",
    "    <li><a href='#compare'>Compare IDs</a></li>\n",
    "    <li><a href='#string'>Create Test String</a></li>\n",
    "    <li><a href='#tables'>Compare Tables</a></li>\n",
    "    <li><a href='#input'>Input Tests</a></li>\n",
    "    <li><a href='#detect'>Detect Type</a></li>\n",
    "    <li><a href='#update'>Update Attributes</a></li>\n",
    "</ol>"
   ]
  },
  {
   "cell_type": "code",
   "execution_count": 42,
   "metadata": {},
   "outputs": [],
   "source": [
    "from collections import namedtuple\n",
    "from importlib import reload\n",
    "\n",
    "import mypy\n",
    "import numpy as np\n",
    "import pandas as pd\n",
    "from sqlalchemy import types\n",
    "import seaborn as sns\n",
    "import matplotlib.pyplot as plt\n",
    "\n",
    "import sql_test as st\n",
    "from sql_config import ENGINE_DVD\n",
    "import sql_input_tests as sqlit\n",
    "\n",
    "%matplotlib inline"
   ]
  },
  {
   "cell_type": "markdown",
   "metadata": {},
   "source": [
    "<a id='start'></a>\n",
    "## Modifying Class Dictionary"
   ]
  },
  {
   "cell_type": "code",
   "execution_count": 1,
   "metadata": {},
   "outputs": [],
   "source": [
    "class DictTest:\n",
    "    def __init__(self):\n",
    "        self.my_dict = {}\n",
    "        self.label = 'count'\n",
    "    \n",
    "    def run_test(self, value):\n",
    "        if value > 10:\n",
    "            self.my_dict[self.label] = value"
   ]
  },
  {
   "cell_type": "code",
   "execution_count": 2,
   "metadata": {},
   "outputs": [],
   "source": [
    "tester = DictTest()\n",
    "\n",
    "my_list = [1, 15, 6, 8, 20, 13]\n",
    "my_labels = ['abc', 'xyz', 'def', 'lmn', 'ijk', 'str']\n",
    "\n",
    "for value, label in zip(my_list, my_labels):\n",
    "    tester.label = label\n",
    "    tester.run_test(value)"
   ]
  },
  {
   "cell_type": "code",
   "execution_count": 3,
   "metadata": {},
   "outputs": [
    {
     "data": {
      "text/plain": [
       "{'xyz': 15, 'ijk': 20, 'str': 13}"
      ]
     },
     "execution_count": 3,
     "metadata": {},
     "output_type": "execute_result"
    }
   ],
   "source": [
    "tester.my_dict"
   ]
  },
  {
   "cell_type": "markdown",
   "metadata": {},
   "source": [
    "<a id='create'></a>\n",
    "## Create Tables"
   ]
  },
  {
   "cell_type": "code",
   "execution_count": 148,
   "metadata": {},
   "outputs": [],
   "source": [
    "create_str = \"\\\n",
    "SELECT \\\n",
    "    CAST(EXTRACT(YEAR FROM r.rental_date) AS TEXT) || '-' ||  CAST(EXTRACT(MONTH FROM r.rental_date) AS TEXT) AS ss_dt \\\n",
    "    , r.rental_id \\\n",
    "    , r.rental_date \\\n",
    "    , f.title \\\n",
    "    , f.length \\\n",
    "    , f.rating \\\n",
    "FROM rental r \\\n",
    "    JOIN inventory i \\\n",
    "        ON i.inventory_id = r.inventory_id \\\n",
    "    JOIN film f \\\n",
    "        ON f.film_id = i.film_id\"\n",
    "\n",
    "df = san.sql_query(create_str, 'dvd')"
   ]
  },
  {
   "cell_type": "code",
   "execution_count": 30,
   "metadata": {},
   "outputs": [
    {
     "data": {
      "text/html": [
       "<div>\n",
       "<style scoped>\n",
       "    .dataframe tbody tr th:only-of-type {\n",
       "        vertical-align: middle;\n",
       "    }\n",
       "\n",
       "    .dataframe tbody tr th {\n",
       "        vertical-align: top;\n",
       "    }\n",
       "\n",
       "    .dataframe thead th {\n",
       "        text-align: right;\n",
       "    }\n",
       "</style>\n",
       "<table border=\"1\" class=\"dataframe\">\n",
       "  <thead>\n",
       "    <tr style=\"text-align: right;\">\n",
       "      <th></th>\n",
       "      <th>ss_dt</th>\n",
       "      <th>rental_id</th>\n",
       "      <th>rental_date</th>\n",
       "      <th>title</th>\n",
       "      <th>length</th>\n",
       "      <th>rating</th>\n",
       "    </tr>\n",
       "  </thead>\n",
       "  <tbody>\n",
       "    <tr>\n",
       "      <th>0</th>\n",
       "      <td>2005-5</td>\n",
       "      <td>2</td>\n",
       "      <td>2005-05-24 22:54:33</td>\n",
       "      <td>Freaky Pocus</td>\n",
       "      <td>126</td>\n",
       "      <td>R</td>\n",
       "    </tr>\n",
       "    <tr>\n",
       "      <th>1</th>\n",
       "      <td>2005-5</td>\n",
       "      <td>3</td>\n",
       "      <td>2005-05-24 23:03:39</td>\n",
       "      <td>Graduate Lord</td>\n",
       "      <td>156</td>\n",
       "      <td>G</td>\n",
       "    </tr>\n",
       "    <tr>\n",
       "      <th>2</th>\n",
       "      <td>2005-5</td>\n",
       "      <td>4</td>\n",
       "      <td>2005-05-24 23:04:41</td>\n",
       "      <td>Love Suicides</td>\n",
       "      <td>181</td>\n",
       "      <td>R</td>\n",
       "    </tr>\n",
       "    <tr>\n",
       "      <th>3</th>\n",
       "      <td>2005-5</td>\n",
       "      <td>5</td>\n",
       "      <td>2005-05-24 23:05:21</td>\n",
       "      <td>Idols Snatchers</td>\n",
       "      <td>84</td>\n",
       "      <td>NC-17</td>\n",
       "    </tr>\n",
       "    <tr>\n",
       "      <th>4</th>\n",
       "      <td>2005-5</td>\n",
       "      <td>6</td>\n",
       "      <td>2005-05-24 23:08:07</td>\n",
       "      <td>Mystic Truman</td>\n",
       "      <td>92</td>\n",
       "      <td>NC-17</td>\n",
       "    </tr>\n",
       "  </tbody>\n",
       "</table>\n",
       "</div>"
      ],
      "text/plain": [
       "    ss_dt  rental_id         rental_date            title  length rating\n",
       "0  2005-5          2 2005-05-24 22:54:33     Freaky Pocus     126      R\n",
       "1  2005-5          3 2005-05-24 23:03:39    Graduate Lord     156      G\n",
       "2  2005-5          4 2005-05-24 23:04:41    Love Suicides     181      R\n",
       "3  2005-5          5 2005-05-24 23:05:21  Idols Snatchers      84  NC-17\n",
       "4  2005-5          6 2005-05-24 23:08:07    Mystic Truman      92  NC-17"
      ]
     },
     "execution_count": 30,
     "metadata": {},
     "output_type": "execute_result"
    }
   ],
   "source": [
    "df.head()"
   ]
  },
  {
   "cell_type": "code",
   "execution_count": 19,
   "metadata": {},
   "outputs": [
    {
     "data": {
      "text/plain": [
       "count                   16044\n",
       "unique                  15815\n",
       "top       2006-02-14 15:16:03\n",
       "freq                      182\n",
       "first     2005-05-24 22:53:30\n",
       "last      2006-02-14 15:16:03\n",
       "Name: rental_date, dtype: object"
      ]
     },
     "execution_count": 19,
     "metadata": {},
     "output_type": "execute_result"
    }
   ],
   "source": [
    "df.rental_date.describe()"
   ]
  },
  {
   "cell_type": "markdown",
   "metadata": {},
   "source": [
    "Generate random timestamps via this [StackOverflow answer](https://stackoverflow.com/questions/553303/generate-a-random-date-between-two-other-dates)."
   ]
  },
  {
   "cell_type": "code",
   "execution_count": 20,
   "metadata": {},
   "outputs": [],
   "source": [
    "from random import randrange\n",
    "from datetime import timedelta\n",
    "\n",
    "def random_date(start, end):\n",
    "    \"\"\"\n",
    "    This function will return a random datetime between two datetime \n",
    "    objects.\n",
    "    \"\"\"\n",
    "    delta = end - start\n",
    "    int_delta = (delta.days * 24 * 60 * 60) + delta.seconds\n",
    "    random_second = randrange(int_delta)\n",
    "    return start + timedelta(seconds=random_second)"
   ]
  },
  {
   "cell_type": "code",
   "execution_count": 23,
   "metadata": {},
   "outputs": [],
   "source": [
    "random_dates = []\n",
    "for _ in np.arange(df.shape[0]):\n",
    "    random_dates.append(random_date(df.rental_date.min(),\n",
    "                                    df.rental_date.max()))"
   ]
  },
  {
   "cell_type": "markdown",
   "metadata": {},
   "source": [
    "Create alternate view for comparison testing."
   ]
  },
  {
   "cell_type": "code",
   "execution_count": 31,
   "metadata": {},
   "outputs": [],
   "source": [
    "alt_rental_view = df.copy()\n",
    "alt_rental_view['rental_date'] = random_dates\n",
    "alt_rental_view['ss_date'] = alt_rental_view['rental_date'].dt.year.astype(str) \\\n",
    "                             + '-' + alt_rental_view['rental_date'].dt.month.astype(str)\n",
    "alt_rental_view.drop('ss_dt', axis=1, inplace=True)"
   ]
  },
  {
   "cell_type": "code",
   "execution_count": 32,
   "metadata": {},
   "outputs": [
    {
     "data": {
      "text/html": [
       "<div>\n",
       "<style scoped>\n",
       "    .dataframe tbody tr th:only-of-type {\n",
       "        vertical-align: middle;\n",
       "    }\n",
       "\n",
       "    .dataframe tbody tr th {\n",
       "        vertical-align: top;\n",
       "    }\n",
       "\n",
       "    .dataframe thead th {\n",
       "        text-align: right;\n",
       "    }\n",
       "</style>\n",
       "<table border=\"1\" class=\"dataframe\">\n",
       "  <thead>\n",
       "    <tr style=\"text-align: right;\">\n",
       "      <th></th>\n",
       "      <th>rental_id</th>\n",
       "      <th>rental_date</th>\n",
       "      <th>title</th>\n",
       "      <th>length</th>\n",
       "      <th>rating</th>\n",
       "      <th>ss_date</th>\n",
       "    </tr>\n",
       "  </thead>\n",
       "  <tbody>\n",
       "    <tr>\n",
       "      <th>0</th>\n",
       "      <td>2</td>\n",
       "      <td>2005-12-02 22:58:47</td>\n",
       "      <td>Freaky Pocus</td>\n",
       "      <td>126</td>\n",
       "      <td>R</td>\n",
       "      <td>2005-12</td>\n",
       "    </tr>\n",
       "    <tr>\n",
       "      <th>1</th>\n",
       "      <td>3</td>\n",
       "      <td>2005-11-04 04:06:39</td>\n",
       "      <td>Graduate Lord</td>\n",
       "      <td>156</td>\n",
       "      <td>G</td>\n",
       "      <td>2005-11</td>\n",
       "    </tr>\n",
       "    <tr>\n",
       "      <th>2</th>\n",
       "      <td>4</td>\n",
       "      <td>2005-10-08 19:37:49</td>\n",
       "      <td>Love Suicides</td>\n",
       "      <td>181</td>\n",
       "      <td>R</td>\n",
       "      <td>2005-10</td>\n",
       "    </tr>\n",
       "    <tr>\n",
       "      <th>3</th>\n",
       "      <td>5</td>\n",
       "      <td>2005-09-03 13:17:21</td>\n",
       "      <td>Idols Snatchers</td>\n",
       "      <td>84</td>\n",
       "      <td>NC-17</td>\n",
       "      <td>2005-9</td>\n",
       "    </tr>\n",
       "    <tr>\n",
       "      <th>4</th>\n",
       "      <td>6</td>\n",
       "      <td>2005-10-31 02:40:27</td>\n",
       "      <td>Mystic Truman</td>\n",
       "      <td>92</td>\n",
       "      <td>NC-17</td>\n",
       "      <td>2005-10</td>\n",
       "    </tr>\n",
       "  </tbody>\n",
       "</table>\n",
       "</div>"
      ],
      "text/plain": [
       "   rental_id         rental_date            title  length rating  ss_date\n",
       "0          2 2005-12-02 22:58:47     Freaky Pocus     126      R  2005-12\n",
       "1          3 2005-11-04 04:06:39    Graduate Lord     156      G  2005-11\n",
       "2          4 2005-10-08 19:37:49    Love Suicides     181      R  2005-10\n",
       "3          5 2005-09-03 13:17:21  Idols Snatchers      84  NC-17   2005-9\n",
       "4          6 2005-10-31 02:40:27    Mystic Truman      92  NC-17  2005-10"
      ]
     },
     "execution_count": 32,
     "metadata": {},
     "output_type": "execute_result"
    }
   ],
   "source": [
    "alt_rental_view.head()"
   ]
  },
  {
   "cell_type": "markdown",
   "metadata": {},
   "source": [
    "Create tables in database"
   ]
  },
  {
   "cell_type": "code",
   "execution_count": 39,
   "metadata": {},
   "outputs": [],
   "source": [
    "alt_rental_view.to_sql('alt_rental_view', \n",
    "                       ENGINE_DVD, \n",
    "                       if_exists='replace', \n",
    "                       index=False,\n",
    "                       dtype={\"rental_id\": types.Integer(),\n",
    "                              \"rental_date\": types.Date(),\n",
    "                              \"title\": types.VARCHAR(length=255),\n",
    "                              \"length\": types.Integer(),\n",
    "                              \"rating\": types.VARCHAR(length=6),\n",
    "                              \"ss_date\": types.VARCHAR(length=8)})"
   ]
  },
  {
   "cell_type": "code",
   "execution_count": 41,
   "metadata": {},
   "outputs": [],
   "source": [
    "df.to_sql('rental_view',\n",
    "          ENGINE_DVD,\n",
    "          if_exists='replace',\n",
    "          dtype={\"rental_id\": types.Integer(),\n",
    "                 \"ss_dt\": types.VARCHAR(length=8),\n",
    "                 \"rental_date\": types.Date(),\n",
    "                 \"title\": types.VARCHAR(length=255),\n",
    "                 \"length\": types.Integer(),\n",
    "                 \"rating\": types.VARCHAR(length=6)})"
   ]
  },
  {
   "cell_type": "markdown",
   "metadata": {},
   "source": [
    "Create a third test table."
   ]
  },
  {
   "cell_type": "code",
   "execution_count": 150,
   "metadata": {},
   "outputs": [
    {
     "data": {
      "text/plain": [
       "(16044, 6)"
      ]
     },
     "execution_count": 150,
     "metadata": {},
     "output_type": "execute_result"
    }
   ],
   "source": [
    "df.shape"
   ]
  },
  {
   "cell_type": "code",
   "execution_count": 151,
   "metadata": {},
   "outputs": [],
   "source": [
    "drop_ind = np.random.randint(0, df.shape[0], 200)"
   ]
  },
  {
   "cell_type": "code",
   "execution_count": 152,
   "metadata": {},
   "outputs": [],
   "source": [
    "alt_sim_rental_view = df.drop(drop_ind).copy()"
   ]
  },
  {
   "cell_type": "code",
   "execution_count": 155,
   "metadata": {},
   "outputs": [
    {
     "data": {
      "text/plain": [
       "Index(['ss_dt', 'rental_id', 'rental_date', 'title', 'length', 'rating'], dtype='object')"
      ]
     },
     "execution_count": 155,
     "metadata": {},
     "output_type": "execute_result"
    }
   ],
   "source": [
    "df.columns"
   ]
  },
  {
   "cell_type": "code",
   "execution_count": 156,
   "metadata": {},
   "outputs": [],
   "source": [
    "alt_sim_rental_view.columns = ['ss_dt', 'id', 'rental_date', 'movie', 'runtime', 'rating']\n",
    "alt_sim_rental_view.to_sql('alt_sim_rental_view',\n",
    "                           ENGINE_DVD,\n",
    "                           if_exists='replace',\n",
    "                           index=False,\n",
    "                           dtype={\"ss_dt\": types.VARCHAR(length=8),\n",
    "                                  \"id\": types.Integer(),\n",
    "                                  \"rental_date\": types.Date(),\n",
    "                                  \"movie\": types.VARCHAR(length=255),\n",
    "                                  \"runtime\": types.Integer(),\n",
    "                                  \"rating\": types.VARCHAR(length=6)})"
   ]
  },
  {
   "cell_type": "markdown",
   "metadata": {},
   "source": [
    "<a id='test'></a>\n",
    "## Test Functionality"
   ]
  },
  {
   "cell_type": "code",
   "execution_count": 4,
   "metadata": {},
   "outputs": [
    {
     "data": {
      "text/html": [
       "<div>\n",
       "<style scoped>\n",
       "    .dataframe tbody tr th:only-of-type {\n",
       "        vertical-align: middle;\n",
       "    }\n",
       "\n",
       "    .dataframe tbody tr th {\n",
       "        vertical-align: top;\n",
       "    }\n",
       "\n",
       "    .dataframe thead th {\n",
       "        text-align: right;\n",
       "    }\n",
       "</style>\n",
       "<table border=\"1\" class=\"dataframe\">\n",
       "  <thead>\n",
       "    <tr style=\"text-align: right;\">\n",
       "      <th></th>\n",
       "      <th>index</th>\n",
       "      <th>ss_dt</th>\n",
       "      <th>rental_id</th>\n",
       "      <th>rental_date</th>\n",
       "      <th>title</th>\n",
       "      <th>length</th>\n",
       "      <th>rating</th>\n",
       "    </tr>\n",
       "  </thead>\n",
       "  <tbody>\n",
       "    <tr>\n",
       "      <th>0</th>\n",
       "      <td>0</td>\n",
       "      <td>2005-5</td>\n",
       "      <td>2</td>\n",
       "      <td>2005-05-24</td>\n",
       "      <td>Freaky Pocus</td>\n",
       "      <td>126</td>\n",
       "      <td>R</td>\n",
       "    </tr>\n",
       "    <tr>\n",
       "      <th>1</th>\n",
       "      <td>1</td>\n",
       "      <td>2005-5</td>\n",
       "      <td>3</td>\n",
       "      <td>2005-05-24</td>\n",
       "      <td>Graduate Lord</td>\n",
       "      <td>156</td>\n",
       "      <td>G</td>\n",
       "    </tr>\n",
       "    <tr>\n",
       "      <th>2</th>\n",
       "      <td>2</td>\n",
       "      <td>2005-5</td>\n",
       "      <td>4</td>\n",
       "      <td>2005-05-24</td>\n",
       "      <td>Love Suicides</td>\n",
       "      <td>181</td>\n",
       "      <td>R</td>\n",
       "    </tr>\n",
       "    <tr>\n",
       "      <th>3</th>\n",
       "      <td>3</td>\n",
       "      <td>2005-5</td>\n",
       "      <td>5</td>\n",
       "      <td>2005-05-24</td>\n",
       "      <td>Idols Snatchers</td>\n",
       "      <td>84</td>\n",
       "      <td>NC-17</td>\n",
       "    </tr>\n",
       "    <tr>\n",
       "      <th>4</th>\n",
       "      <td>4</td>\n",
       "      <td>2005-5</td>\n",
       "      <td>6</td>\n",
       "      <td>2005-05-24</td>\n",
       "      <td>Mystic Truman</td>\n",
       "      <td>92</td>\n",
       "      <td>NC-17</td>\n",
       "    </tr>\n",
       "  </tbody>\n",
       "</table>\n",
       "</div>"
      ],
      "text/plain": [
       "   index   ss_dt  rental_id rental_date            title  length rating\n",
       "0      0  2005-5          2  2005-05-24     Freaky Pocus     126      R\n",
       "1      1  2005-5          3  2005-05-24    Graduate Lord     156      G\n",
       "2      2  2005-5          4  2005-05-24    Love Suicides     181      R\n",
       "3      3  2005-5          5  2005-05-24  Idols Snatchers      84  NC-17\n",
       "4      4  2005-5          6  2005-05-24    Mystic Truman      92  NC-17"
      ]
     },
     "execution_count": 4,
     "metadata": {},
     "output_type": "execute_result"
    }
   ],
   "source": [
    "rental_view = st.sql_query('SELECT * FROM rental_view', 'dvd')\n",
    "rental_view.head()"
   ]
  },
  {
   "cell_type": "code",
   "execution_count": 5,
   "metadata": {},
   "outputs": [
    {
     "data": {
      "text/html": [
       "<div>\n",
       "<style scoped>\n",
       "    .dataframe tbody tr th:only-of-type {\n",
       "        vertical-align: middle;\n",
       "    }\n",
       "\n",
       "    .dataframe tbody tr th {\n",
       "        vertical-align: top;\n",
       "    }\n",
       "\n",
       "    .dataframe thead th {\n",
       "        text-align: right;\n",
       "    }\n",
       "</style>\n",
       "<table border=\"1\" class=\"dataframe\">\n",
       "  <thead>\n",
       "    <tr style=\"text-align: right;\">\n",
       "      <th></th>\n",
       "      <th>rental_id</th>\n",
       "      <th>rental_date</th>\n",
       "      <th>title</th>\n",
       "      <th>length</th>\n",
       "      <th>rating</th>\n",
       "      <th>ss_date</th>\n",
       "    </tr>\n",
       "  </thead>\n",
       "  <tbody>\n",
       "    <tr>\n",
       "      <th>0</th>\n",
       "      <td>2</td>\n",
       "      <td>2005-12-02</td>\n",
       "      <td>Freaky Pocus</td>\n",
       "      <td>126</td>\n",
       "      <td>R</td>\n",
       "      <td>2005-12</td>\n",
       "    </tr>\n",
       "    <tr>\n",
       "      <th>1</th>\n",
       "      <td>3</td>\n",
       "      <td>2005-11-04</td>\n",
       "      <td>Graduate Lord</td>\n",
       "      <td>156</td>\n",
       "      <td>G</td>\n",
       "      <td>2005-11</td>\n",
       "    </tr>\n",
       "    <tr>\n",
       "      <th>2</th>\n",
       "      <td>4</td>\n",
       "      <td>2005-10-08</td>\n",
       "      <td>Love Suicides</td>\n",
       "      <td>181</td>\n",
       "      <td>R</td>\n",
       "      <td>2005-10</td>\n",
       "    </tr>\n",
       "    <tr>\n",
       "      <th>3</th>\n",
       "      <td>5</td>\n",
       "      <td>2005-09-03</td>\n",
       "      <td>Idols Snatchers</td>\n",
       "      <td>84</td>\n",
       "      <td>NC-17</td>\n",
       "      <td>2005-9</td>\n",
       "    </tr>\n",
       "    <tr>\n",
       "      <th>4</th>\n",
       "      <td>6</td>\n",
       "      <td>2005-10-31</td>\n",
       "      <td>Mystic Truman</td>\n",
       "      <td>92</td>\n",
       "      <td>NC-17</td>\n",
       "      <td>2005-10</td>\n",
       "    </tr>\n",
       "  </tbody>\n",
       "</table>\n",
       "</div>"
      ],
      "text/plain": [
       "   rental_id rental_date            title  length rating  ss_date\n",
       "0          2  2005-12-02     Freaky Pocus     126      R  2005-12\n",
       "1          3  2005-11-04    Graduate Lord     156      G  2005-11\n",
       "2          4  2005-10-08    Love Suicides     181      R  2005-10\n",
       "3          5  2005-09-03  Idols Snatchers      84  NC-17   2005-9\n",
       "4          6  2005-10-31    Mystic Truman      92  NC-17  2005-10"
      ]
     },
     "execution_count": 5,
     "metadata": {},
     "output_type": "execute_result"
    }
   ],
   "source": [
    "alt_rental_view = st.sql_query('SELECT * FROM alt_rental_view', 'dvd')\n",
    "alt_rental_view.head()"
   ]
  },
  {
   "cell_type": "code",
   "execution_count": 6,
   "metadata": {
    "scrolled": true
   },
   "outputs": [
    {
     "data": {
      "text/html": [
       "<div>\n",
       "<style scoped>\n",
       "    .dataframe tbody tr th:only-of-type {\n",
       "        vertical-align: middle;\n",
       "    }\n",
       "\n",
       "    .dataframe tbody tr th {\n",
       "        vertical-align: top;\n",
       "    }\n",
       "\n",
       "    .dataframe thead th {\n",
       "        text-align: right;\n",
       "    }\n",
       "</style>\n",
       "<table border=\"1\" class=\"dataframe\">\n",
       "  <thead>\n",
       "    <tr style=\"text-align: right;\">\n",
       "      <th></th>\n",
       "      <th>ss_dt</th>\n",
       "      <th>id</th>\n",
       "      <th>rental_date</th>\n",
       "      <th>movie</th>\n",
       "      <th>runtime</th>\n",
       "      <th>rating</th>\n",
       "    </tr>\n",
       "  </thead>\n",
       "  <tbody>\n",
       "    <tr>\n",
       "      <th>0</th>\n",
       "      <td>2005-5</td>\n",
       "      <td>2</td>\n",
       "      <td>2005-05-24</td>\n",
       "      <td>Freaky Pocus</td>\n",
       "      <td>126</td>\n",
       "      <td>R</td>\n",
       "    </tr>\n",
       "    <tr>\n",
       "      <th>1</th>\n",
       "      <td>2005-5</td>\n",
       "      <td>3</td>\n",
       "      <td>2005-05-24</td>\n",
       "      <td>Graduate Lord</td>\n",
       "      <td>156</td>\n",
       "      <td>G</td>\n",
       "    </tr>\n",
       "    <tr>\n",
       "      <th>2</th>\n",
       "      <td>2005-5</td>\n",
       "      <td>4</td>\n",
       "      <td>2005-05-24</td>\n",
       "      <td>Love Suicides</td>\n",
       "      <td>181</td>\n",
       "      <td>R</td>\n",
       "    </tr>\n",
       "    <tr>\n",
       "      <th>3</th>\n",
       "      <td>2005-5</td>\n",
       "      <td>5</td>\n",
       "      <td>2005-05-24</td>\n",
       "      <td>Idols Snatchers</td>\n",
       "      <td>84</td>\n",
       "      <td>NC-17</td>\n",
       "    </tr>\n",
       "    <tr>\n",
       "      <th>4</th>\n",
       "      <td>2005-5</td>\n",
       "      <td>6</td>\n",
       "      <td>2005-05-24</td>\n",
       "      <td>Mystic Truman</td>\n",
       "      <td>92</td>\n",
       "      <td>NC-17</td>\n",
       "    </tr>\n",
       "  </tbody>\n",
       "</table>\n",
       "</div>"
      ],
      "text/plain": [
       "    ss_dt  id rental_date            movie  runtime rating\n",
       "0  2005-5   2  2005-05-24     Freaky Pocus      126      R\n",
       "1  2005-5   3  2005-05-24    Graduate Lord      156      G\n",
       "2  2005-5   4  2005-05-24    Love Suicides      181      R\n",
       "3  2005-5   5  2005-05-24  Idols Snatchers       84  NC-17\n",
       "4  2005-5   6  2005-05-24    Mystic Truman       92  NC-17"
      ]
     },
     "execution_count": 6,
     "metadata": {},
     "output_type": "execute_result"
    }
   ],
   "source": [
    "alt_sim_rental_view = st.sql_query('SELECT * FROM alt_sim_rental_view', 'dvd')\n",
    "alt_sim_rental_view.head()"
   ]
  },
  {
   "cell_type": "code",
   "execution_count": 71,
   "metadata": {
    "scrolled": false
   },
   "outputs": [],
   "source": [
    "reload(san);"
   ]
  },
  {
   "cell_type": "code",
   "execution_count": 44,
   "metadata": {},
   "outputs": [
    {
     "name": "stdout",
     "output_type": "stream",
     "text": [
      "Commencing test for count rental_id...\n",
      "   Commencing rental_id query...\n",
      "   Query for rental_id complete.\n",
      "PRIORITY REVIEW on alt_rental_id: 67.73\n",
      "Test for rental_id complete.\n",
      "\n"
     ]
    },
    {
     "data": {
      "text/html": [
       "<div>\n",
       "<style scoped>\n",
       "    .dataframe tbody tr th:only-of-type {\n",
       "        vertical-align: middle;\n",
       "    }\n",
       "\n",
       "    .dataframe tbody tr th {\n",
       "        vertical-align: top;\n",
       "    }\n",
       "\n",
       "    .dataframe thead th {\n",
       "        text-align: right;\n",
       "    }\n",
       "</style>\n",
       "<table border=\"1\" class=\"dataframe\">\n",
       "  <thead>\n",
       "    <tr style=\"text-align: right;\">\n",
       "      <th></th>\n",
       "      <th>date</th>\n",
       "      <th>ss_dt</th>\n",
       "      <th>rvw_count</th>\n",
       "      <th>alt_count</th>\n",
       "      <th>sim_count</th>\n",
       "      <th>rvw_minus_alt</th>\n",
       "      <th>perc_diff_alt</th>\n",
       "      <th>rvw_minus_sim</th>\n",
       "      <th>perc_diff_sim</th>\n",
       "    </tr>\n",
       "  </thead>\n",
       "  <tbody>\n",
       "    <tr>\n",
       "      <th>0</th>\n",
       "      <td>04-Aug-19</td>\n",
       "      <td>2005-5</td>\n",
       "      <td>1156</td>\n",
       "      <td>417</td>\n",
       "      <td>1140</td>\n",
       "      <td>739</td>\n",
       "      <td>63.93</td>\n",
       "      <td>16</td>\n",
       "      <td>1.38</td>\n",
       "    </tr>\n",
       "    <tr>\n",
       "      <th>1</th>\n",
       "      <td>04-Aug-19</td>\n",
       "      <td>2005-6</td>\n",
       "      <td>2311</td>\n",
       "      <td>1856</td>\n",
       "      <td>2287</td>\n",
       "      <td>455</td>\n",
       "      <td>19.69</td>\n",
       "      <td>24</td>\n",
       "      <td>1.04</td>\n",
       "    </tr>\n",
       "    <tr>\n",
       "      <th>2</th>\n",
       "      <td>04-Aug-19</td>\n",
       "      <td>2005-7</td>\n",
       "      <td>6709</td>\n",
       "      <td>1795</td>\n",
       "      <td>6630</td>\n",
       "      <td>4914</td>\n",
       "      <td>73.24</td>\n",
       "      <td>79</td>\n",
       "      <td>1.18</td>\n",
       "    </tr>\n",
       "    <tr>\n",
       "      <th>3</th>\n",
       "      <td>04-Aug-19</td>\n",
       "      <td>2005-8</td>\n",
       "      <td>5686</td>\n",
       "      <td>1835</td>\n",
       "      <td>5610</td>\n",
       "      <td>3851</td>\n",
       "      <td>67.73</td>\n",
       "      <td>76</td>\n",
       "      <td>1.34</td>\n",
       "    </tr>\n",
       "    <tr>\n",
       "      <th>4</th>\n",
       "      <td>04-Aug-19</td>\n",
       "      <td>2006-2</td>\n",
       "      <td>182</td>\n",
       "      <td>857</td>\n",
       "      <td>179</td>\n",
       "      <td>-675</td>\n",
       "      <td>-370.88</td>\n",
       "      <td>3</td>\n",
       "      <td>1.65</td>\n",
       "    </tr>\n",
       "  </tbody>\n",
       "</table>\n",
       "</div>"
      ],
      "text/plain": [
       "        date   ss_dt  rvw_count  alt_count  sim_count  rvw_minus_alt  \\\n",
       "0  04-Aug-19  2005-5       1156        417       1140            739   \n",
       "1  04-Aug-19  2005-6       2311       1856       2287            455   \n",
       "2  04-Aug-19  2005-7       6709       1795       6630           4914   \n",
       "3  04-Aug-19  2005-8       5686       1835       5610           3851   \n",
       "4  04-Aug-19  2006-2        182        857        179           -675   \n",
       "\n",
       "   perc_diff_alt  rvw_minus_sim  perc_diff_sim  \n",
       "0          63.93             16           1.38  \n",
       "1          19.69             24           1.04  \n",
       "2          73.24             79           1.18  \n",
       "3          67.73             76           1.34  \n",
       "4        -370.88              3           1.65  "
      ]
     },
     "execution_count": 44,
     "metadata": {},
     "output_type": "execute_result"
    }
   ],
   "source": [
    "# Specify table fields - \"target\" table is first\n",
    "comparison_fields = ('rental_id','rental_id', 'id')\n",
    "groupby_fields = ('ss_dt', 'ss_date', 'ss_dt')\n",
    "table_names = ('rental_view', 'alt_rental_view', 'alt_sim_rental_view')\n",
    "table_alias = ('rvw', 'alt', 'sim')\n",
    "\n",
    "# Create data gatherer\n",
    "tester = san.SQLUnitTest(comparison_fields,\n",
    "                         groupby_fields,\n",
    "                         table_names,\n",
    "                         table_alias,\n",
    "                         db_server='dvd',\n",
    "                         test_type='count')\n",
    "\n",
    "tester.run_test()\n",
    "tester._results"
   ]
  },
  {
   "cell_type": "code",
   "execution_count": 25,
   "metadata": {},
   "outputs": [
    {
     "name": "stdout",
     "output_type": "stream",
     "text": [
      "Commencing rental_id query...\n",
      "Query for rental_id complete.\n",
      "\n"
     ]
    },
    {
     "data": {
      "text/html": [
       "<div>\n",
       "<style scoped>\n",
       "    .dataframe tbody tr th:only-of-type {\n",
       "        vertical-align: middle;\n",
       "    }\n",
       "\n",
       "    .dataframe tbody tr th {\n",
       "        vertical-align: top;\n",
       "    }\n",
       "\n",
       "    .dataframe thead th {\n",
       "        text-align: right;\n",
       "    }\n",
       "</style>\n",
       "<table border=\"1\" class=\"dataframe\">\n",
       "  <thead>\n",
       "    <tr style=\"text-align: right;\">\n",
       "      <th></th>\n",
       "      <th>ss_dt</th>\n",
       "      <th>rvw_count</th>\n",
       "      <th>alt_count</th>\n",
       "      <th>sim_count</th>\n",
       "    </tr>\n",
       "  </thead>\n",
       "  <tbody>\n",
       "    <tr>\n",
       "      <th>0</th>\n",
       "      <td>2005-5</td>\n",
       "      <td>1156</td>\n",
       "      <td>417</td>\n",
       "      <td>1140</td>\n",
       "    </tr>\n",
       "    <tr>\n",
       "      <th>1</th>\n",
       "      <td>2005-6</td>\n",
       "      <td>2311</td>\n",
       "      <td>1856</td>\n",
       "      <td>2287</td>\n",
       "    </tr>\n",
       "    <tr>\n",
       "      <th>2</th>\n",
       "      <td>2005-7</td>\n",
       "      <td>6709</td>\n",
       "      <td>1795</td>\n",
       "      <td>6630</td>\n",
       "    </tr>\n",
       "    <tr>\n",
       "      <th>3</th>\n",
       "      <td>2005-8</td>\n",
       "      <td>5686</td>\n",
       "      <td>1835</td>\n",
       "      <td>5610</td>\n",
       "    </tr>\n",
       "    <tr>\n",
       "      <th>4</th>\n",
       "      <td>2006-2</td>\n",
       "      <td>182</td>\n",
       "      <td>857</td>\n",
       "      <td>179</td>\n",
       "    </tr>\n",
       "  </tbody>\n",
       "</table>\n",
       "</div>"
      ],
      "text/plain": [
       "    ss_dt  rvw_count  alt_count  sim_count\n",
       "0  2005-5       1156        417       1140\n",
       "1  2005-6       2311       1856       2287\n",
       "2  2005-7       6709       1795       6630\n",
       "3  2005-8       5686       1835       5610\n",
       "4  2006-2        182        857        179"
      ]
     },
     "execution_count": 25,
     "metadata": {},
     "output_type": "execute_result"
    }
   ],
   "source": [
    "# Specify table fields - \"target\" table is first\n",
    "comparison_fields = ('rental_id','rental_id', 'id')\n",
    "groupby_fields = ('ss_dt', 'ss_date', 'ss_dt')\n",
    "table_names = ('rental_view', 'alt_rental_view', 'alt_sim_rental_view')\n",
    "table_alias = ('rvw', 'alt', 'sim')\n",
    "\n",
    "# Create data gatherer\n",
    "tester = san.SQLUnitTest(comparison_fields,\n",
    "                         groupby_fields,\n",
    "                         table_names,\n",
    "                         table_alias,\n",
    "                         db_server='dvd',\n",
    "                         test_type='count')\n",
    "\n",
    "# Get data for 'count' test\n",
    "count_df = tester.gather_data()\n",
    "count_df"
   ]
  },
  {
   "cell_type": "code",
   "execution_count": 26,
   "metadata": {},
   "outputs": [
    {
     "name": "stdout",
     "output_type": "stream",
     "text": [
      "Commencing test for rental_id...\n",
      "Commencing rental_id query...\n",
      "Query for rental_id complete.\n",
      "\n",
      "PRIORITY REVIEW on alt_rental_id: 67.73\n",
      "Test for rental_id complete.\n",
      "\n"
     ]
    },
    {
     "data": {
      "text/html": [
       "<div>\n",
       "<style scoped>\n",
       "    .dataframe tbody tr th:only-of-type {\n",
       "        vertical-align: middle;\n",
       "    }\n",
       "\n",
       "    .dataframe tbody tr th {\n",
       "        vertical-align: top;\n",
       "    }\n",
       "\n",
       "    .dataframe thead th {\n",
       "        text-align: right;\n",
       "    }\n",
       "</style>\n",
       "<table border=\"1\" class=\"dataframe\">\n",
       "  <thead>\n",
       "    <tr style=\"text-align: right;\">\n",
       "      <th></th>\n",
       "      <th>date</th>\n",
       "      <th>ss_dt</th>\n",
       "      <th>rvw_count</th>\n",
       "      <th>alt_count</th>\n",
       "      <th>sim_count</th>\n",
       "      <th>rvw_minus_alt</th>\n",
       "      <th>perc_diff_alt</th>\n",
       "      <th>rvw_minus_sim</th>\n",
       "      <th>perc_diff_sim</th>\n",
       "    </tr>\n",
       "  </thead>\n",
       "  <tbody>\n",
       "    <tr>\n",
       "      <th>0</th>\n",
       "      <td>04-Aug-19</td>\n",
       "      <td>2005-5</td>\n",
       "      <td>1156</td>\n",
       "      <td>417</td>\n",
       "      <td>1140</td>\n",
       "      <td>739</td>\n",
       "      <td>63.93</td>\n",
       "      <td>16</td>\n",
       "      <td>1.38</td>\n",
       "    </tr>\n",
       "    <tr>\n",
       "      <th>1</th>\n",
       "      <td>04-Aug-19</td>\n",
       "      <td>2005-6</td>\n",
       "      <td>2311</td>\n",
       "      <td>1856</td>\n",
       "      <td>2287</td>\n",
       "      <td>455</td>\n",
       "      <td>19.69</td>\n",
       "      <td>24</td>\n",
       "      <td>1.04</td>\n",
       "    </tr>\n",
       "    <tr>\n",
       "      <th>2</th>\n",
       "      <td>04-Aug-19</td>\n",
       "      <td>2005-7</td>\n",
       "      <td>6709</td>\n",
       "      <td>1795</td>\n",
       "      <td>6630</td>\n",
       "      <td>4914</td>\n",
       "      <td>73.24</td>\n",
       "      <td>79</td>\n",
       "      <td>1.18</td>\n",
       "    </tr>\n",
       "    <tr>\n",
       "      <th>3</th>\n",
       "      <td>04-Aug-19</td>\n",
       "      <td>2005-8</td>\n",
       "      <td>5686</td>\n",
       "      <td>1835</td>\n",
       "      <td>5610</td>\n",
       "      <td>3851</td>\n",
       "      <td>67.73</td>\n",
       "      <td>76</td>\n",
       "      <td>1.34</td>\n",
       "    </tr>\n",
       "    <tr>\n",
       "      <th>4</th>\n",
       "      <td>04-Aug-19</td>\n",
       "      <td>2006-2</td>\n",
       "      <td>182</td>\n",
       "      <td>857</td>\n",
       "      <td>179</td>\n",
       "      <td>-675</td>\n",
       "      <td>-370.88</td>\n",
       "      <td>3</td>\n",
       "      <td>1.65</td>\n",
       "    </tr>\n",
       "  </tbody>\n",
       "</table>\n",
       "</div>"
      ],
      "text/plain": [
       "        date   ss_dt  rvw_count  alt_count  sim_count  rvw_minus_alt  \\\n",
       "0  04-Aug-19  2005-5       1156        417       1140            739   \n",
       "1  04-Aug-19  2005-6       2311       1856       2287            455   \n",
       "2  04-Aug-19  2005-7       6709       1795       6630           4914   \n",
       "3  04-Aug-19  2005-8       5686       1835       5610           3851   \n",
       "4  04-Aug-19  2006-2        182        857        179           -675   \n",
       "\n",
       "   perc_diff_alt  rvw_minus_sim  perc_diff_sim  \n",
       "0          63.93             16           1.38  \n",
       "1          19.69             24           1.04  \n",
       "2          73.24             79           1.18  \n",
       "3          67.73             76           1.34  \n",
       "4        -370.88              3           1.65  "
      ]
     },
     "execution_count": 26,
     "metadata": {},
     "output_type": "execute_result"
    }
   ],
   "source": [
    "tester.run_test()\n",
    "tester._results"
   ]
  },
  {
   "cell_type": "code",
   "execution_count": 30,
   "metadata": {},
   "outputs": [
    {
     "name": "stdout",
     "output_type": "stream",
     "text": [
      "MISSING VALUE for rating_rating\n"
     ]
    },
    {
     "data": {
      "text/plain": [
       "'MISSING VALUE for rating_rating'"
      ]
     },
     "execution_count": 30,
     "metadata": {},
     "output_type": "execute_result"
    }
   ],
   "source": [
    "tester._results['perc_diff_alt'] = np.nan\n",
    "tester._assess_priority_review('rating', 'perc_diff_alt', 2)"
   ]
  },
  {
   "cell_type": "markdown",
   "metadata": {},
   "source": [
    "<a id='summary'></a>\n",
    "## Summarize Function"
   ]
  },
  {
   "cell_type": "code",
   "execution_count": 15,
   "metadata": {},
   "outputs": [],
   "source": [
    "reload(san);"
   ]
  },
  {
   "cell_type": "code",
   "execution_count": 16,
   "metadata": {},
   "outputs": [
    {
     "name": "stdout",
     "output_type": "stream",
     "text": [
      "Commencing count test for rental_id...\n",
      "  Commencing rental_id query...\n",
      "  Query for rental_id complete.\n",
      "PRIORITY REVIEW on rental_id_alt: 67.73\n",
      "Test for rental_id complete.\n",
      "\n",
      "Commencing high_distinct test for rental_date...\n",
      "  Commencing rental_date query...\n",
      "  Query for rental_date complete.\n",
      "PRIORITY REVIEW on rental_date_alt: 210.0\n",
      "Test for rental_date complete.\n",
      "\n",
      "Commencing high_distinct test for title...\n",
      "  Commencing title query...\n",
      "  Query for title complete.\n",
      "PRIORITY REVIEW on title_alt: 19.1\n",
      "Test for title complete.\n",
      "\n",
      "Commencing low_distinct test for rating...\n",
      "  Commencing rating query...\n",
      "  Query for rating complete.\n",
      "PRIORITY REVIEW on rating_alt: 68.72\n",
      "Test for rating complete.\n",
      "\n",
      "Commencing numeric test for length...\n",
      "  Commencing length query...\n",
      "  Query for length complete.\n",
      "PRIORITY REVIEW on length_alt: 67.76\n",
      "Test for length complete.\n",
      "\n"
     ]
    },
    {
     "data": {
      "image/png": "[encoded data removed]",
      "text/plain": [
       "<Figure size 540x396 with 2 Axes>"
      ]
     },
     "metadata": {
      "needs_background": "light"
     },
     "output_type": "display_data"
    },
    {
     "data": {
      "text/html": [
       "<div>\n",
       "<style scoped>\n",
       "    .dataframe tbody tr th:only-of-type {\n",
       "        vertical-align: middle;\n",
       "    }\n",
       "\n",
       "    .dataframe tbody tr th {\n",
       "        vertical-align: top;\n",
       "    }\n",
       "\n",
       "    .dataframe thead th {\n",
       "        text-align: right;\n",
       "    }\n",
       "</style>\n",
       "<table border=\"1\" class=\"dataframe\">\n",
       "  <thead>\n",
       "    <tr style=\"text-align: right;\">\n",
       "      <th>ss_dt</th>\n",
       "      <th>2005-5</th>\n",
       "      <th>2005-6</th>\n",
       "      <th>2005-7</th>\n",
       "      <th>2005-8</th>\n",
       "      <th>2006-2</th>\n",
       "    </tr>\n",
       "  </thead>\n",
       "  <tbody>\n",
       "    <tr>\n",
       "      <th>rental_id_alt [count]</th>\n",
       "      <td>63.93</td>\n",
       "      <td>19.690</td>\n",
       "      <td>73.24</td>\n",
       "      <td>67.730</td>\n",
       "      <td>-370.880</td>\n",
       "    </tr>\n",
       "    <tr>\n",
       "      <th>rental_id_sim [count]</th>\n",
       "      <td>1.38</td>\n",
       "      <td>1.040</td>\n",
       "      <td>1.18</td>\n",
       "      <td>1.340</td>\n",
       "      <td>1.650</td>\n",
       "    </tr>\n",
       "    <tr>\n",
       "      <th>length_alt [numeric]</th>\n",
       "      <td>63.33</td>\n",
       "      <td>18.960</td>\n",
       "      <td>72.71</td>\n",
       "      <td>67.760</td>\n",
       "      <td>-375.290</td>\n",
       "    </tr>\n",
       "    <tr>\n",
       "      <th>length_sim [numeric]</th>\n",
       "      <td>1.54</td>\n",
       "      <td>1.000</td>\n",
       "      <td>1.19</td>\n",
       "      <td>1.360</td>\n",
       "      <td>1.460</td>\n",
       "    </tr>\n",
       "    <tr>\n",
       "      <th>rating_alt [low_distinct]</th>\n",
       "      <td>64.20</td>\n",
       "      <td>19.742</td>\n",
       "      <td>73.19</td>\n",
       "      <td>67.748</td>\n",
       "      <td>-375.752</td>\n",
       "    </tr>\n",
       "    <tr>\n",
       "      <th>rating_sim [low_distinct]</th>\n",
       "      <td>1.33</td>\n",
       "      <td>1.044</td>\n",
       "      <td>1.16</td>\n",
       "      <td>1.340</td>\n",
       "      <td>2.068</td>\n",
       "    </tr>\n",
       "    <tr>\n",
       "      <th>rental_date_alt [high_distinct]</th>\n",
       "      <td>0.00</td>\n",
       "      <td>-275.000</td>\n",
       "      <td>-121.43</td>\n",
       "      <td>-210.000</td>\n",
       "      <td>-1300.000</td>\n",
       "    </tr>\n",
       "    <tr>\n",
       "      <th>rental_date_sim [high_distinct]</th>\n",
       "      <td>0.00</td>\n",
       "      <td>0.000</td>\n",
       "      <td>0.00</td>\n",
       "      <td>0.000</td>\n",
       "      <td>0.000</td>\n",
       "    </tr>\n",
       "    <tr>\n",
       "      <th>title_alt [high_distinct]</th>\n",
       "      <td>52.48</td>\n",
       "      <td>13.110</td>\n",
       "      <td>19.10</td>\n",
       "      <td>15.660</td>\n",
       "      <td>-225.600</td>\n",
       "    </tr>\n",
       "    <tr>\n",
       "      <th>title_sim [high_distinct]</th>\n",
       "      <td>0.73</td>\n",
       "      <td>0.110</td>\n",
       "      <td>0.00</td>\n",
       "      <td>0.000</td>\n",
       "      <td>1.190</td>\n",
       "    </tr>\n",
       "  </tbody>\n",
       "</table>\n",
       "</div>"
      ],
      "text/plain": [
       "ss_dt                            2005-5   2005-6  2005-7   2005-8    2006-2\n",
       "rental_id_alt [count]             63.93   19.690   73.24   67.730  -370.880\n",
       "rental_id_sim [count]              1.38    1.040    1.18    1.340     1.650\n",
       "length_alt [numeric]              63.33   18.960   72.71   67.760  -375.290\n",
       "length_sim [numeric]               1.54    1.000    1.19    1.360     1.460\n",
       "rating_alt [low_distinct]         64.20   19.742   73.19   67.748  -375.752\n",
       "rating_sim [low_distinct]          1.33    1.044    1.16    1.340     2.068\n",
       "rental_date_alt [high_distinct]    0.00 -275.000 -121.43 -210.000 -1300.000\n",
       "rental_date_sim [high_distinct]    0.00    0.000    0.00    0.000     0.000\n",
       "title_alt [high_distinct]         52.48   13.110   19.10   15.660  -225.600\n",
       "title_sim [high_distinct]          0.73    0.110    0.00    0.000     1.190"
      ]
     },
     "execution_count": 16,
     "metadata": {},
     "output_type": "execute_result"
    }
   ],
   "source": [
    "# Specify table fields - \"target\" table is first\n",
    "comparison_fields = ('rental_id','rental_id', 'id')\n",
    "groupby_fields = ('ss_dt', 'ss_date', 'ss_dt')\n",
    "table_names = ('rental_view', 'alt_rental_view', 'alt_sim_rental_view')\n",
    "table_alias = ('rvw', 'alt', 'sim')\n",
    "\n",
    "# Create data gatherer\n",
    "tester = san.SQLUnitTest(comparison_fields,\n",
    "                         groupby_fields,\n",
    "                         table_names,\n",
    "                         table_alias,\n",
    "                         db_server='dvd',\n",
    "                         test_type='count',\n",
    "                         save_location='results')\n",
    "\n",
    "# Run count test\n",
    "tester.run_test()\n",
    "\n",
    "high_distinct = [('rental_date', 'rental_date', 'rental_date'),\n",
    "                 ('title', 'title', 'movie')]\n",
    "\n",
    "# Run high_distinct tests\n",
    "for comparison_fields in high_distinct:\n",
    "    tester.comparison_fields = comparison_fields\n",
    "    tester.test_type = 'high_distinct'\n",
    "    \n",
    "    tester.run_test()\n",
    "\n",
    "# Run low_distinct test\n",
    "tester.comparison_fields = ('rating','rating', 'rating')\n",
    "tester.test_type = 'low_distinct'\n",
    "tester.run_test()\n",
    "\n",
    "# Run numeric test\n",
    "tester.comparison_fields = ('length', 'length', 'runtime')\n",
    "tester.test_type = 'numeric'\n",
    "tester.run_test()\n",
    "\n",
    "tester.summarize_results(save_type='image')"
   ]
  },
  {
   "cell_type": "code",
   "execution_count": 82,
   "metadata": {},
   "outputs": [],
   "source": [
    "tester._summary"
   ]
  },
  {
   "cell_type": "code",
   "execution_count": 20,
   "metadata": {},
   "outputs": [
    {
     "data": {
      "text/plain": [
       "{'count_alt': 'PRIORITY REVIEW on alt_count: 67.73',\n",
       " 'rental_date_alt': 'PRIORITY REVIEW on alt_rental_date: 242.5',\n",
       " 'title_alt': 'PRIORITY REVIEW on alt_title: 19.1'}"
      ]
     },
     "execution_count": 20,
     "metadata": {},
     "output_type": "execute_result"
    }
   ],
   "source": [
    "tester._priority_review"
   ]
  },
  {
   "cell_type": "markdown",
   "metadata": {},
   "source": [
    "### Manage `low_distinct` tests"
   ]
  },
  {
   "cell_type": "code",
   "execution_count": 51,
   "metadata": {},
   "outputs": [
    {
     "name": "stdout",
     "output_type": "stream",
     "text": [
      "Commencing test for low_distinct rating...\n",
      "   Commencing rating query...\n",
      "   Query for rating complete.\n",
      "PRIORITY REVIEW on alt_rating: 68.72\n",
      "Test for rating complete.\n",
      "\n"
     ]
    }
   ],
   "source": [
    "tester.comparison_fields = ('rating','rating', 'rating')\n",
    "tester.test_type = 'low_distinct'\n",
    "tester.run_test()"
   ]
  },
  {
   "cell_type": "code",
   "execution_count": 52,
   "metadata": {},
   "outputs": [
    {
     "data": {
      "text/html": [
       "<div>\n",
       "<style scoped>\n",
       "    .dataframe tbody tr th:only-of-type {\n",
       "        vertical-align: middle;\n",
       "    }\n",
       "\n",
       "    .dataframe tbody tr th {\n",
       "        vertical-align: top;\n",
       "    }\n",
       "\n",
       "    .dataframe thead th {\n",
       "        text-align: right;\n",
       "    }\n",
       "</style>\n",
       "<table border=\"1\" class=\"dataframe\">\n",
       "  <thead>\n",
       "    <tr style=\"text-align: right;\">\n",
       "      <th></th>\n",
       "      <th>date</th>\n",
       "      <th>ss_dt</th>\n",
       "      <th>rvw_rating</th>\n",
       "      <th>rvw_count</th>\n",
       "      <th>alt_count</th>\n",
       "      <th>sim_count</th>\n",
       "      <th>rvw_minus_alt</th>\n",
       "      <th>perc_diff_alt</th>\n",
       "      <th>rvw_minus_sim</th>\n",
       "      <th>perc_diff_sim</th>\n",
       "    </tr>\n",
       "  </thead>\n",
       "  <tbody>\n",
       "    <tr>\n",
       "      <th>0</th>\n",
       "      <td>04-Aug-19</td>\n",
       "      <td>2005-5</td>\n",
       "      <td>G</td>\n",
       "      <td>212</td>\n",
       "      <td>73</td>\n",
       "      <td>210</td>\n",
       "      <td>139</td>\n",
       "      <td>65.57</td>\n",
       "      <td>2</td>\n",
       "      <td>0.94</td>\n",
       "    </tr>\n",
       "    <tr>\n",
       "      <th>1</th>\n",
       "      <td>04-Aug-19</td>\n",
       "      <td>2005-5</td>\n",
       "      <td>PG-13</td>\n",
       "      <td>265</td>\n",
       "      <td>115</td>\n",
       "      <td>257</td>\n",
       "      <td>150</td>\n",
       "      <td>56.60</td>\n",
       "      <td>8</td>\n",
       "      <td>3.02</td>\n",
       "    </tr>\n",
       "    <tr>\n",
       "      <th>2</th>\n",
       "      <td>04-Aug-19</td>\n",
       "      <td>2005-5</td>\n",
       "      <td>R</td>\n",
       "      <td>227</td>\n",
       "      <td>71</td>\n",
       "      <td>225</td>\n",
       "      <td>156</td>\n",
       "      <td>68.72</td>\n",
       "      <td>2</td>\n",
       "      <td>0.88</td>\n",
       "    </tr>\n",
       "    <tr>\n",
       "      <th>3</th>\n",
       "      <td>04-Aug-19</td>\n",
       "      <td>2005-5</td>\n",
       "      <td>NC-17</td>\n",
       "      <td>236</td>\n",
       "      <td>83</td>\n",
       "      <td>235</td>\n",
       "      <td>153</td>\n",
       "      <td>64.83</td>\n",
       "      <td>1</td>\n",
       "      <td>0.42</td>\n",
       "    </tr>\n",
       "    <tr>\n",
       "      <th>4</th>\n",
       "      <td>04-Aug-19</td>\n",
       "      <td>2005-5</td>\n",
       "      <td>PG</td>\n",
       "      <td>216</td>\n",
       "      <td>75</td>\n",
       "      <td>213</td>\n",
       "      <td>141</td>\n",
       "      <td>65.28</td>\n",
       "      <td>3</td>\n",
       "      <td>1.39</td>\n",
       "    </tr>\n",
       "    <tr>\n",
       "      <th>5</th>\n",
       "      <td>04-Aug-19</td>\n",
       "      <td>2005-6</td>\n",
       "      <td>NC-17</td>\n",
       "      <td>463</td>\n",
       "      <td>382</td>\n",
       "      <td>459</td>\n",
       "      <td>81</td>\n",
       "      <td>17.49</td>\n",
       "      <td>4</td>\n",
       "      <td>0.86</td>\n",
       "    </tr>\n",
       "    <tr>\n",
       "      <th>6</th>\n",
       "      <td>04-Aug-19</td>\n",
       "      <td>2005-6</td>\n",
       "      <td>R</td>\n",
       "      <td>479</td>\n",
       "      <td>379</td>\n",
       "      <td>468</td>\n",
       "      <td>100</td>\n",
       "      <td>20.88</td>\n",
       "      <td>11</td>\n",
       "      <td>2.30</td>\n",
       "    </tr>\n",
       "    <tr>\n",
       "      <th>7</th>\n",
       "      <td>04-Aug-19</td>\n",
       "      <td>2005-6</td>\n",
       "      <td>PG-13</td>\n",
       "      <td>517</td>\n",
       "      <td>416</td>\n",
       "      <td>515</td>\n",
       "      <td>101</td>\n",
       "      <td>19.54</td>\n",
       "      <td>2</td>\n",
       "      <td>0.39</td>\n",
       "    </tr>\n",
       "    <tr>\n",
       "      <th>8</th>\n",
       "      <td>04-Aug-19</td>\n",
       "      <td>2005-6</td>\n",
       "      <td>G</td>\n",
       "      <td>393</td>\n",
       "      <td>308</td>\n",
       "      <td>389</td>\n",
       "      <td>85</td>\n",
       "      <td>21.63</td>\n",
       "      <td>4</td>\n",
       "      <td>1.02</td>\n",
       "    </tr>\n",
       "    <tr>\n",
       "      <th>9</th>\n",
       "      <td>04-Aug-19</td>\n",
       "      <td>2005-6</td>\n",
       "      <td>PG</td>\n",
       "      <td>459</td>\n",
       "      <td>371</td>\n",
       "      <td>456</td>\n",
       "      <td>88</td>\n",
       "      <td>19.17</td>\n",
       "      <td>3</td>\n",
       "      <td>0.65</td>\n",
       "    </tr>\n",
       "    <tr>\n",
       "      <th>10</th>\n",
       "      <td>04-Aug-19</td>\n",
       "      <td>2005-7</td>\n",
       "      <td>NC-17</td>\n",
       "      <td>1342</td>\n",
       "      <td>352</td>\n",
       "      <td>1329</td>\n",
       "      <td>990</td>\n",
       "      <td>73.77</td>\n",
       "      <td>13</td>\n",
       "      <td>0.97</td>\n",
       "    </tr>\n",
       "    <tr>\n",
       "      <th>11</th>\n",
       "      <td>04-Aug-19</td>\n",
       "      <td>2005-7</td>\n",
       "      <td>R</td>\n",
       "      <td>1315</td>\n",
       "      <td>360</td>\n",
       "      <td>1304</td>\n",
       "      <td>955</td>\n",
       "      <td>72.62</td>\n",
       "      <td>11</td>\n",
       "      <td>0.84</td>\n",
       "    </tr>\n",
       "    <tr>\n",
       "      <th>12</th>\n",
       "      <td>04-Aug-19</td>\n",
       "      <td>2005-7</td>\n",
       "      <td>G</td>\n",
       "      <td>1189</td>\n",
       "      <td>342</td>\n",
       "      <td>1178</td>\n",
       "      <td>847</td>\n",
       "      <td>71.24</td>\n",
       "      <td>11</td>\n",
       "      <td>0.93</td>\n",
       "    </tr>\n",
       "    <tr>\n",
       "      <th>13</th>\n",
       "      <td>04-Aug-19</td>\n",
       "      <td>2005-7</td>\n",
       "      <td>PG-13</td>\n",
       "      <td>1515</td>\n",
       "      <td>402</td>\n",
       "      <td>1490</td>\n",
       "      <td>1113</td>\n",
       "      <td>73.47</td>\n",
       "      <td>25</td>\n",
       "      <td>1.65</td>\n",
       "    </tr>\n",
       "    <tr>\n",
       "      <th>14</th>\n",
       "      <td>04-Aug-19</td>\n",
       "      <td>2005-7</td>\n",
       "      <td>PG</td>\n",
       "      <td>1348</td>\n",
       "      <td>339</td>\n",
       "      <td>1329</td>\n",
       "      <td>1009</td>\n",
       "      <td>74.85</td>\n",
       "      <td>19</td>\n",
       "      <td>1.41</td>\n",
       "    </tr>\n",
       "    <tr>\n",
       "      <th>15</th>\n",
       "      <td>04-Aug-19</td>\n",
       "      <td>2005-8</td>\n",
       "      <td>NC-17</td>\n",
       "      <td>1208</td>\n",
       "      <td>371</td>\n",
       "      <td>1194</td>\n",
       "      <td>837</td>\n",
       "      <td>69.29</td>\n",
       "      <td>14</td>\n",
       "      <td>1.16</td>\n",
       "    </tr>\n",
       "    <tr>\n",
       "      <th>16</th>\n",
       "      <td>04-Aug-19</td>\n",
       "      <td>2005-8</td>\n",
       "      <td>PG-13</td>\n",
       "      <td>1246</td>\n",
       "      <td>442</td>\n",
       "      <td>1224</td>\n",
       "      <td>804</td>\n",
       "      <td>64.53</td>\n",
       "      <td>22</td>\n",
       "      <td>1.77</td>\n",
       "    </tr>\n",
       "    <tr>\n",
       "      <th>17</th>\n",
       "      <td>04-Aug-19</td>\n",
       "      <td>2005-8</td>\n",
       "      <td>G</td>\n",
       "      <td>946</td>\n",
       "      <td>310</td>\n",
       "      <td>931</td>\n",
       "      <td>636</td>\n",
       "      <td>67.23</td>\n",
       "      <td>15</td>\n",
       "      <td>1.59</td>\n",
       "    </tr>\n",
       "    <tr>\n",
       "      <th>18</th>\n",
       "      <td>04-Aug-19</td>\n",
       "      <td>2005-8</td>\n",
       "      <td>PG</td>\n",
       "      <td>1155</td>\n",
       "      <td>350</td>\n",
       "      <td>1137</td>\n",
       "      <td>805</td>\n",
       "      <td>69.70</td>\n",
       "      <td>18</td>\n",
       "      <td>1.56</td>\n",
       "    </tr>\n",
       "    <tr>\n",
       "      <th>19</th>\n",
       "      <td>04-Aug-19</td>\n",
       "      <td>2005-8</td>\n",
       "      <td>R</td>\n",
       "      <td>1131</td>\n",
       "      <td>362</td>\n",
       "      <td>1124</td>\n",
       "      <td>769</td>\n",
       "      <td>67.99</td>\n",
       "      <td>7</td>\n",
       "      <td>0.62</td>\n",
       "    </tr>\n",
       "    <tr>\n",
       "      <th>20</th>\n",
       "      <td>04-Aug-19</td>\n",
       "      <td>2006-2</td>\n",
       "      <td>PG</td>\n",
       "      <td>34</td>\n",
       "      <td>176</td>\n",
       "      <td>34</td>\n",
       "      <td>-142</td>\n",
       "      <td>-417.65</td>\n",
       "      <td>0</td>\n",
       "      <td>NaN</td>\n",
       "    </tr>\n",
       "    <tr>\n",
       "      <th>21</th>\n",
       "      <td>04-Aug-19</td>\n",
       "      <td>2006-2</td>\n",
       "      <td>G</td>\n",
       "      <td>33</td>\n",
       "      <td>133</td>\n",
       "      <td>33</td>\n",
       "      <td>-100</td>\n",
       "      <td>-303.03</td>\n",
       "      <td>0</td>\n",
       "      <td>NaN</td>\n",
       "    </tr>\n",
       "    <tr>\n",
       "      <th>22</th>\n",
       "      <td>04-Aug-19</td>\n",
       "      <td>2006-2</td>\n",
       "      <td>PG-13</td>\n",
       "      <td>42</td>\n",
       "      <td>205</td>\n",
       "      <td>42</td>\n",
       "      <td>-163</td>\n",
       "      <td>-388.10</td>\n",
       "      <td>0</td>\n",
       "      <td>NaN</td>\n",
       "    </tr>\n",
       "    <tr>\n",
       "      <th>23</th>\n",
       "      <td>04-Aug-19</td>\n",
       "      <td>2006-2</td>\n",
       "      <td>R</td>\n",
       "      <td>29</td>\n",
       "      <td>162</td>\n",
       "      <td>26</td>\n",
       "      <td>-133</td>\n",
       "      <td>-458.62</td>\n",
       "      <td>3</td>\n",
       "      <td>10.34</td>\n",
       "    </tr>\n",
       "    <tr>\n",
       "      <th>24</th>\n",
       "      <td>04-Aug-19</td>\n",
       "      <td>2006-2</td>\n",
       "      <td>NC-17</td>\n",
       "      <td>44</td>\n",
       "      <td>181</td>\n",
       "      <td>44</td>\n",
       "      <td>-137</td>\n",
       "      <td>-311.36</td>\n",
       "      <td>0</td>\n",
       "      <td>NaN</td>\n",
       "    </tr>\n",
       "  </tbody>\n",
       "</table>\n",
       "</div>"
      ],
      "text/plain": [
       "         date   ss_dt rvw_rating  rvw_count  alt_count  sim_count  \\\n",
       "0   04-Aug-19  2005-5          G        212         73        210   \n",
       "1   04-Aug-19  2005-5      PG-13        265        115        257   \n",
       "2   04-Aug-19  2005-5          R        227         71        225   \n",
       "3   04-Aug-19  2005-5      NC-17        236         83        235   \n",
       "4   04-Aug-19  2005-5         PG        216         75        213   \n",
       "5   04-Aug-19  2005-6      NC-17        463        382        459   \n",
       "6   04-Aug-19  2005-6          R        479        379        468   \n",
       "7   04-Aug-19  2005-6      PG-13        517        416        515   \n",
       "8   04-Aug-19  2005-6          G        393        308        389   \n",
       "9   04-Aug-19  2005-6         PG        459        371        456   \n",
       "10  04-Aug-19  2005-7      NC-17       1342        352       1329   \n",
       "11  04-Aug-19  2005-7          R       1315        360       1304   \n",
       "12  04-Aug-19  2005-7          G       1189        342       1178   \n",
       "13  04-Aug-19  2005-7      PG-13       1515        402       1490   \n",
       "14  04-Aug-19  2005-7         PG       1348        339       1329   \n",
       "15  04-Aug-19  2005-8      NC-17       1208        371       1194   \n",
       "16  04-Aug-19  2005-8      PG-13       1246        442       1224   \n",
       "17  04-Aug-19  2005-8          G        946        310        931   \n",
       "18  04-Aug-19  2005-8         PG       1155        350       1137   \n",
       "19  04-Aug-19  2005-8          R       1131        362       1124   \n",
       "20  04-Aug-19  2006-2         PG         34        176         34   \n",
       "21  04-Aug-19  2006-2          G         33        133         33   \n",
       "22  04-Aug-19  2006-2      PG-13         42        205         42   \n",
       "23  04-Aug-19  2006-2          R         29        162         26   \n",
       "24  04-Aug-19  2006-2      NC-17         44        181         44   \n",
       "\n",
       "    rvw_minus_alt  perc_diff_alt  rvw_minus_sim  perc_diff_sim  \n",
       "0             139          65.57              2           0.94  \n",
       "1             150          56.60              8           3.02  \n",
       "2             156          68.72              2           0.88  \n",
       "3             153          64.83              1           0.42  \n",
       "4             141          65.28              3           1.39  \n",
       "5              81          17.49              4           0.86  \n",
       "6             100          20.88             11           2.30  \n",
       "7             101          19.54              2           0.39  \n",
       "8              85          21.63              4           1.02  \n",
       "9              88          19.17              3           0.65  \n",
       "10            990          73.77             13           0.97  \n",
       "11            955          72.62             11           0.84  \n",
       "12            847          71.24             11           0.93  \n",
       "13           1113          73.47             25           1.65  \n",
       "14           1009          74.85             19           1.41  \n",
       "15            837          69.29             14           1.16  \n",
       "16            804          64.53             22           1.77  \n",
       "17            636          67.23             15           1.59  \n",
       "18            805          69.70             18           1.56  \n",
       "19            769          67.99              7           0.62  \n",
       "20           -142        -417.65              0            NaN  \n",
       "21           -100        -303.03              0            NaN  \n",
       "22           -163        -388.10              0            NaN  \n",
       "23           -133        -458.62              3          10.34  \n",
       "24           -137        -311.36              0            NaN  "
      ]
     },
     "execution_count": 52,
     "metadata": {},
     "output_type": "execute_result"
    }
   ],
   "source": [
    "tester._results"
   ]
  },
  {
   "cell_type": "code",
   "execution_count": 56,
   "metadata": {},
   "outputs": [
    {
     "data": {
      "text/html": [
       "<div>\n",
       "<style scoped>\n",
       "    .dataframe tbody tr th:only-of-type {\n",
       "        vertical-align: middle;\n",
       "    }\n",
       "\n",
       "    .dataframe tbody tr th {\n",
       "        vertical-align: top;\n",
       "    }\n",
       "\n",
       "    .dataframe thead th {\n",
       "        text-align: right;\n",
       "    }\n",
       "</style>\n",
       "<table border=\"1\" class=\"dataframe\">\n",
       "  <thead>\n",
       "    <tr style=\"text-align: right;\">\n",
       "      <th></th>\n",
       "      <th>ss_dt</th>\n",
       "      <th>perc_diff_alt</th>\n",
       "      <th>perc_diff_sim</th>\n",
       "    </tr>\n",
       "  </thead>\n",
       "  <tbody>\n",
       "    <tr>\n",
       "      <th>0</th>\n",
       "      <td>2005-5</td>\n",
       "      <td>64.200</td>\n",
       "      <td>1.330</td>\n",
       "    </tr>\n",
       "    <tr>\n",
       "      <th>1</th>\n",
       "      <td>2005-6</td>\n",
       "      <td>19.742</td>\n",
       "      <td>1.044</td>\n",
       "    </tr>\n",
       "    <tr>\n",
       "      <th>2</th>\n",
       "      <td>2005-7</td>\n",
       "      <td>73.190</td>\n",
       "      <td>1.160</td>\n",
       "    </tr>\n",
       "    <tr>\n",
       "      <th>3</th>\n",
       "      <td>2005-8</td>\n",
       "      <td>67.748</td>\n",
       "      <td>1.340</td>\n",
       "    </tr>\n",
       "    <tr>\n",
       "      <th>4</th>\n",
       "      <td>2006-2</td>\n",
       "      <td>-375.752</td>\n",
       "      <td>2.068</td>\n",
       "    </tr>\n",
       "  </tbody>\n",
       "</table>\n",
       "</div>"
      ],
      "text/plain": [
       "    ss_dt  perc_diff_alt  perc_diff_sim\n",
       "0  2005-5         64.200          1.330\n",
       "1  2005-6         19.742          1.044\n",
       "2  2005-7         73.190          1.160\n",
       "3  2005-8         67.748          1.340\n",
       "4  2006-2       -375.752          2.068"
      ]
     },
     "execution_count": 56,
     "metadata": {},
     "output_type": "execute_result"
    }
   ],
   "source": [
    "tester._results.fillna(0).groupby('ss_dt')[['perc_diff_alt', 'perc_diff_sim']].mean().replace(0, np.nan).reset_index()"
   ]
  },
  {
   "cell_type": "markdown",
   "metadata": {},
   "source": [
    "<a id='compare'></a>\n",
    "## Compare IDs"
   ]
  },
  {
   "cell_type": "code",
   "execution_count": 34,
   "metadata": {},
   "outputs": [],
   "source": [
    "reload(san);"
   ]
  },
  {
   "cell_type": "code",
   "execution_count": 3,
   "metadata": {
    "scrolled": true
   },
   "outputs": [
    {
     "name": "stdout",
     "output_type": "stream",
     "text": [
      "  Commencing rental_id query...\n",
      "  Query for rental_id complete.\n",
      "Commencing count test for rental_id...\n",
      "  Commencing rental_id query...\n",
      "  Query for rental_id complete.\n",
      "PRIORITY REVIEW on rental_id_alt: 67.73\n",
      "Test for rental_id complete.\n",
      "\n",
      "Commencing ID comparison for 2005-5 ...\n",
      "ID comparison for 2005-5 complete.\n",
      "Commencing ID comparison for 2005-6 ...\n",
      "ID comparison for 2005-6 complete.\n",
      "Commencing ID comparison for 2005-7 ...\n",
      "ID comparison for 2005-7 complete.\n",
      "Commencing ID comparison for 2005-8 ...\n",
      "ID comparison for 2005-8 complete.\n",
      "Commencing ID comparison for 2006-2 ...\n",
      "ID comparison for 2006-2 complete.\n"
     ]
    }
   ],
   "source": [
    "# Specify table fields - \"target\" table is first\n",
    "comparison_fields = ('rental_id','rental_id')\n",
    "groupby_fields = ('ss_dt', 'ss_date')\n",
    "table_names = ('rental_view', 'alt_rental_view')\n",
    "table_alias = ('rvw', 'alt')\n",
    "\n",
    "# Create data gatherer\n",
    "tester = san.SQLUnitTest(table_names,\n",
    "                         table_alias,\n",
    "                         groupby_fields,\n",
    "                         comparison_fields,\n",
    "                         db_server='dvd',\n",
    "                         test_type='id_check')\n",
    "\n",
    "results = tester.compare_ids(table_alias, comparison_fields)"
   ]
  },
  {
   "cell_type": "code",
   "execution_count": 4,
   "metadata": {},
   "outputs": [
    {
     "data": {
      "text/html": [
       "<div>\n",
       "<style scoped>\n",
       "    .dataframe tbody tr th:only-of-type {\n",
       "        vertical-align: middle;\n",
       "    }\n",
       "\n",
       "    .dataframe tbody tr th {\n",
       "        vertical-align: top;\n",
       "    }\n",
       "\n",
       "    .dataframe thead th {\n",
       "        text-align: right;\n",
       "    }\n",
       "</style>\n",
       "<table border=\"1\" class=\"dataframe\">\n",
       "  <thead>\n",
       "    <tr style=\"text-align: right;\">\n",
       "      <th></th>\n",
       "      <th>date</th>\n",
       "      <th>rvw_count</th>\n",
       "      <th>alt_count</th>\n",
       "      <th>rvw_minus_alt</th>\n",
       "      <th>perc_diff_alt</th>\n",
       "      <th>rvw_missing_in_alt</th>\n",
       "      <th>missing_rvw_ids</th>\n",
       "      <th>alt_missing_in_rvw</th>\n",
       "      <th>missing_alt_ids</th>\n",
       "    </tr>\n",
       "    <tr>\n",
       "      <th>ss_dt</th>\n",
       "      <th></th>\n",
       "      <th></th>\n",
       "      <th></th>\n",
       "      <th></th>\n",
       "      <th></th>\n",
       "      <th></th>\n",
       "      <th></th>\n",
       "      <th></th>\n",
       "      <th></th>\n",
       "    </tr>\n",
       "  </thead>\n",
       "  <tbody>\n",
       "    <tr>\n",
       "      <th>2005-5</th>\n",
       "      <td>17-Aug-19</td>\n",
       "      <td>1156</td>\n",
       "      <td>417</td>\n",
       "      <td>739</td>\n",
       "      <td>63.93</td>\n",
       "      <td>[2, 3, 4, 5, 6, 7, 8, 9, 10, 11, 12, 13, 14, 1...</td>\n",
       "      <td>1120.0</td>\n",
       "      <td>[1187, 1336, 1352, 1357, 1420, 1483, 1542, 155...</td>\n",
       "      <td>381.0</td>\n",
       "    </tr>\n",
       "    <tr>\n",
       "      <th>2005-6</th>\n",
       "      <td>17-Aug-19</td>\n",
       "      <td>2311</td>\n",
       "      <td>1856</td>\n",
       "      <td>455</td>\n",
       "      <td>19.69</td>\n",
       "      <td>[1158, 1159, 1160, 1161, 1162, 1163, 1164, 116...</td>\n",
       "      <td>2035.0</td>\n",
       "      <td>[20, 21, 26, 27, 75, 76, 88, 95, 100, 132, 138...</td>\n",
       "      <td>1580.0</td>\n",
       "    </tr>\n",
       "    <tr>\n",
       "      <th>2005-7</th>\n",
       "      <td>17-Aug-19</td>\n",
       "      <td>6709</td>\n",
       "      <td>1795</td>\n",
       "      <td>4914</td>\n",
       "      <td>73.24</td>\n",
       "      <td>[3470, 3472, 3473, 3474, 3475, 3476, 3477, 347...</td>\n",
       "      <td>5947.0</td>\n",
       "      <td>[10, 14, 19, 22, 24, 28, 31, 38, 39, 41, 44, 6...</td>\n",
       "      <td>1033.0</td>\n",
       "    </tr>\n",
       "    <tr>\n",
       "      <th>2005-8</th>\n",
       "      <td>17-Aug-19</td>\n",
       "      <td>5686</td>\n",
       "      <td>1835</td>\n",
       "      <td>3851</td>\n",
       "      <td>67.73</td>\n",
       "      <td>[10181, 10182, 10183, 10184, 10185, 10186, 101...</td>\n",
       "      <td>5009.0</td>\n",
       "      <td>[16, 30, 37, 46, 50, 51, 52, 55, 56, 60, 63, 7...</td>\n",
       "      <td>1158.0</td>\n",
       "    </tr>\n",
       "    <tr>\n",
       "      <th>2006-2</th>\n",
       "      <td>17-Aug-19</td>\n",
       "      <td>182</td>\n",
       "      <td>857</td>\n",
       "      <td>-675</td>\n",
       "      <td>-370.88</td>\n",
       "      <td>[11496, 11541, 12101, 11563, 11577, 11593, 116...</td>\n",
       "      <td>169.0</td>\n",
       "      <td>[23, 43, 48, 59, 65, 74, 120, 149, 191, 200, 2...</td>\n",
       "      <td>844.0</td>\n",
       "    </tr>\n",
       "  </tbody>\n",
       "</table>\n",
       "</div>"
      ],
      "text/plain": [
       "             date  rvw_count  alt_count  rvw_minus_alt  perc_diff_alt  \\\n",
       "ss_dt                                                                   \n",
       "2005-5  17-Aug-19       1156        417            739          63.93   \n",
       "2005-6  17-Aug-19       2311       1856            455          19.69   \n",
       "2005-7  17-Aug-19       6709       1795           4914          73.24   \n",
       "2005-8  17-Aug-19       5686       1835           3851          67.73   \n",
       "2006-2  17-Aug-19        182        857           -675        -370.88   \n",
       "\n",
       "                                       rvw_missing_in_alt  missing_rvw_ids  \\\n",
       "ss_dt                                                                        \n",
       "2005-5  [2, 3, 4, 5, 6, 7, 8, 9, 10, 11, 12, 13, 14, 1...           1120.0   \n",
       "2005-6  [1158, 1159, 1160, 1161, 1162, 1163, 1164, 116...           2035.0   \n",
       "2005-7  [3470, 3472, 3473, 3474, 3475, 3476, 3477, 347...           5947.0   \n",
       "2005-8  [10181, 10182, 10183, 10184, 10185, 10186, 101...           5009.0   \n",
       "2006-2  [11496, 11541, 12101, 11563, 11577, 11593, 116...            169.0   \n",
       "\n",
       "                                       alt_missing_in_rvw  missing_alt_ids  \n",
       "ss_dt                                                                       \n",
       "2005-5  [1187, 1336, 1352, 1357, 1420, 1483, 1542, 155...            381.0  \n",
       "2005-6  [20, 21, 26, 27, 75, 76, 88, 95, 100, 132, 138...           1580.0  \n",
       "2005-7  [10, 14, 19, 22, 24, 28, 31, 38, 39, 41, 44, 6...           1033.0  \n",
       "2005-8  [16, 30, 37, 46, 50, 51, 52, 55, 56, 60, 63, 7...           1158.0  \n",
       "2006-2  [23, 43, 48, 59, 65, 74, 120, 149, 191, 200, 2...            844.0  "
      ]
     },
     "execution_count": 4,
     "metadata": {},
     "output_type": "execute_result"
    }
   ],
   "source": [
    "results"
   ]
  },
  {
   "cell_type": "code",
   "execution_count": 13,
   "metadata": {
    "scrolled": false
   },
   "outputs": [
    {
     "name": "stdout",
     "output_type": "stream",
     "text": [
      "[2, 3, 4, 5, 6, 7, 8, 9, 10, 11, 12, 13, 14, 15, 16, 17, 18, 19, 20, 21, 22, 23, 24, 25, 26, 27, 28, 29, 30, 31, 32, 33, 34, 35, 36, 37, 38, 39, 40, 41, 42, 43, 44, 45, 46, 47, 48, 49, 50, 51, 52, 53, 54, 55, 56, 57, 58, 59, 60, 61, 62, 63, 64, 65, 66, 67, 68, 69, 70, 71, 72, 73, 74, 75, 76, 77, 78, 79, 80, 81, 82, 83, 84, 85, 86, 88, 89, 90, 91, 92, 93, 94, 95, 96, 97, 98, 100, 101, 102, 103, 104, 106, 107, 108, 109, 110, 111, 112, 113, 114, 115, 116, 117, 118, 119, 120, 121, 122, 123, 124, 125, 126, 127, 128, 129, 130, 131, 132, 133, 134, 135, 136, 137, 138, 139, 140, 141, 142, 143, 144, 145, 146, 147, 148, 149, 150, 151, 152, 153, 154, 155, 156, 157, 158, 159, 161, 162, 163, 164, 165, 166, 167, 168, 169, 170, 171, 172, 173, 174, 175, 176, 177, 178, 179, 181, 182, 183, 184, 185, 186, 187, 188, 189, 191, 192, 193, 194, 195, 196, 197, 198, 199, 200, 201, 203, 204, 205, 206, 207, 208, 209, 210, 211, 212, 213, 215, 216, 217, 218, 219, 220, 221, 222, 223, 224, 225, 226, 227, 228, 229, 230, 231, 232, 233, 234, 235, 236, 237, 239, 240, 241, 242, 243, 244, 245, 246, 248, 249, 250, 251, 252, 253, 254, 255, 256, 257, 258, 259, 260, 261, 263, 264, 265, 266, 267, 268, 269, 270, 271, 272, 273, 274, 275, 276, 277, 278, 279, 280, 281, 282, 283, 284, 285, 286, 287, 288, 289, 290, 291, 292, 293, 294, 295, 296, 297, 298, 299, 300, 301, 302, 303, 304, 305, 306, 307, 308, 309, 311, 312, 313, 314, 315, 316, 317, 318, 319, 320, 322, 323, 325, 326, 327, 328, 329, 330, 331, 332, 333, 334, 335, 336, 337, 338, 339, 340, 341, 342, 343, 344, 345, 346, 347, 348, 349, 350, 351, 352, 353, 354, 355, 356, 357, 358, 359, 360, 361, 362, 363, 364, 365, 366, 367, 368, 369, 370, 371, 372, 373, 374, 375, 376, 377, 378, 379, 380, 381, 383, 385, 386, 387, 388, 389, 390, 391, 392, 393, 394, 395, 396, 397, 398, 399, 400, 401, 402, 403, 404, 405, 406, 407, 408, 409, 410, 411, 412, 413, 414, 415, 416, 417, 418, 419, 421, 422, 423, 424, 425, 426, 427, 428, 429, 430, 431, 432, 433, 434, 435, 436, 437, 439, 440, 441, 442, 443, 444, 445, 446, 447, 448, 449, 450, 451, 452, 453, 454, 455, 456, 457, 458, 459, 460, 461, 462, 463, 464, 465, 466, 467, 468, 469, 470, 471, 472, 473, 474, 475, 476, 477, 478, 479, 480, 481, 482, 483, 484, 485, 486, 487, 488, 489, 490, 491, 492, 493, 494, 495, 496, 497, 498, 499, 500, 501, 502, 504, 505, 506, 507, 508, 509, 510, 511, 512, 514, 515, 516, 517, 518, 519, 520, 521, 522, 523, 524, 525, 526, 527, 528, 529, 530, 531, 532, 533, 534, 535, 536, 537, 538, 539, 540, 541, 542, 543, 544, 545, 546, 547, 548, 549, 550, 551, 552, 553, 554, 555, 556, 557, 558, 559, 560, 561, 562, 563, 564, 565, 567, 568, 569, 570, 571, 572, 573, 574, 575, 576, 577, 578, 579, 580, 581, 582, 583, 584, 585, 586, 587, 588, 589, 590, 591, 592, 593, 594, 595, 596, 597, 598, 599, 600, 601, 602, 603, 604, 605, 606, 607, 608, 609, 610, 611, 612, 613, 614, 615, 616, 617, 618, 619, 620, 621, 622, 623, 624, 625, 626, 627, 628, 629, 630, 631, 632, 633, 634, 635, 636, 637, 638, 639, 640, 641, 643, 644, 645, 646, 647, 648, 649, 650, 651, 652, 653, 654, 655, 656, 657, 658, 659, 660, 661, 662, 663, 664, 665, 666, 667, 668, 669, 670, 671, 672, 673, 674, 675, 676, 677, 678, 679, 681, 683, 684, 685, 686, 687, 688, 689, 690, 691, 692, 693, 694, 695, 696, 697, 698, 699, 700, 701, 702, 704, 705, 706, 707, 708, 709, 710, 711, 712, 713, 714, 715, 716, 717, 718, 719, 720, 721, 722, 723, 724, 725, 726, 727, 728, 729, 730, 732, 734, 735, 736, 737, 738, 739, 740, 741, 742, 743, 744, 745, 746, 747, 748, 749, 750, 752, 753, 754, 755, 756, 757, 758, 759, 760, 761, 762, 763, 764, 765, 766, 767, 768, 769, 770, 771, 772, 773, 774, 775, 776, 777, 778, 779, 780, 781, 782, 783, 784, 785, 786, 787, 788, 789, 790, 791, 792, 793, 794, 795, 796, 797, 798, 799, 800, 801, 802, 803, 804, 805, 806, 807, 808, 809, 810, 811, 812, 813, 814, 815, 816, 817, 819, 820, 821, 822, 823, 824, 825, 826, 827, 828, 829, 830, 831, 832, 833, 834, 835, 836, 837, 838, 839, 840, 841, 842, 843, 844, 845, 846, 847, 848, 849, 850, 851, 852, 853, 854, 855, 856, 857, 858, 859, 860, 861, 862, 863, 864, 865, 866, 867, 868, 870, 871, 872, 873, 874, 875, 876, 877, 878, 879, 880, 881, 882, 883, 884, 885, 886, 887, 888, 889, 890, 891, 893, 894, 895, 896, 897, 898, 899, 900, 901, 902, 903, 904, 905, 906, 907, 908, 909, 910, 911, 912, 913, 914, 915, 916, 917, 918, 919, 920, 921, 922, 923, 924, 925, 926, 927, 928, 929, 930, 931, 932, 933, 934, 935, 936, 937, 938, 939, 940, 941, 942, 943, 944, 945, 946, 947, 948, 949, 950, 951, 952, 953, 954, 955, 956, 957, 958, 959, 960, 961, 962, 963, 964, 965, 966, 967, 968, 969, 970, 971, 972, 973, 974, 975, 976, 977, 978, 979, 980, 981, 982, 983, 984, 985, 986, 987, 988, 989, 990, 991, 992, 993, 994, 995, 997, 998, 999, 1000, 1001, 1002, 1003, 1004, 1005, 1006, 1007, 1008, 1009, 1010, 1011, 1012, 1013, 1014, 1015, 1017, 1018, 1019, 1020, 1021, 1022, 1023, 1024, 1025, 1026, 1027, 1028, 1029, 1030, 1031, 1032, 1033, 1034, 1035, 1036, 1037, 1038, 1039, 1040, 1041, 1042, 1043, 1044, 1045, 1046, 1047, 1048, 1049, 1050, 1051, 1052, 1053, 1054, 1055, 1056, 1057, 1058, 1059, 1060, 1061, 1062, 1063, 1064, 1065, 1066, 1067, 1068, 1069, 1070, 1071, 1072, 1073, 1074, 1075, 1076, 1077, 1078, 1079, 1080, 1081, 1082, 1083, 1084, 1085, 1086, 1087, 1088, 1089, 1090, 1091, 1092, 1093, 1094, 1095, 1096, 1097, 1099, 1100, 1101, 1102, 1103, 1104, 1105, 1106, 1108, 1109, 1110, 1111, 1112, 1113, 1114, 1115, 1116, 1117, 1118, 1119, 1120, 1121, 1122, 1123, 1124, 1125, 1127, 1128, 1129, 1130, 1131, 1132, 1133, 1134, 1135, 1136, 1137, 1138, 1139, 1140, 1141, 1142, 1143, 1144, 1145, 1147, 1148, 1149, 1150, 1151, 1152, 1153, 1154, 1155, 1156, 1157, 1]\n"
     ]
    }
   ],
   "source": [
    "print(results.loc['2005-5', 'rvw_missing_in_alt'].tolist())"
   ]
  },
  {
   "cell_type": "code",
   "execution_count": 35,
   "metadata": {},
   "outputs": [
    {
     "name": "stdout",
     "output_type": "stream",
     "text": [
      "  Commencing rental_id query...\n",
      "  Query for rental_id complete.\n"
     ]
    }
   ],
   "source": [
    "# Specify table fields - \"target\" table is first\n",
    "comparison_fields = ('rental_id','rental_id')\n",
    "groupby_fields = ('ss_dt', 'ss_date')\n",
    "table_names = ('rental_view', 'alt_rental_view')\n",
    "table_alias = ('rvw', 'alt')\n",
    "\n",
    "# Create data gatherer\n",
    "tester = san.SQLUnitTest(comparison_fields,\n",
    "                         groupby_fields,\n",
    "                         table_names,\n",
    "                         table_alias,\n",
    "                         db_server='dvd',\n",
    "                         test_type='id_check')\n",
    "\n",
    "target_df, source_df = tester.gather_data()"
   ]
  },
  {
   "cell_type": "code",
   "execution_count": 36,
   "metadata": {},
   "outputs": [
    {
     "data": {
      "text/html": [
       "<div>\n",
       "<style scoped>\n",
       "    .dataframe tbody tr th:only-of-type {\n",
       "        vertical-align: middle;\n",
       "    }\n",
       "\n",
       "    .dataframe tbody tr th {\n",
       "        vertical-align: top;\n",
       "    }\n",
       "\n",
       "    .dataframe thead th {\n",
       "        text-align: right;\n",
       "    }\n",
       "</style>\n",
       "<table border=\"1\" class=\"dataframe\">\n",
       "  <thead>\n",
       "    <tr style=\"text-align: right;\">\n",
       "      <th></th>\n",
       "      <th>ss_dt</th>\n",
       "      <th>rental_id</th>\n",
       "    </tr>\n",
       "  </thead>\n",
       "  <tbody>\n",
       "    <tr>\n",
       "      <th>0</th>\n",
       "      <td>2005-5</td>\n",
       "      <td>2</td>\n",
       "    </tr>\n",
       "    <tr>\n",
       "      <th>1</th>\n",
       "      <td>2005-5</td>\n",
       "      <td>3</td>\n",
       "    </tr>\n",
       "    <tr>\n",
       "      <th>2</th>\n",
       "      <td>2005-5</td>\n",
       "      <td>4</td>\n",
       "    </tr>\n",
       "    <tr>\n",
       "      <th>3</th>\n",
       "      <td>2005-5</td>\n",
       "      <td>5</td>\n",
       "    </tr>\n",
       "    <tr>\n",
       "      <th>4</th>\n",
       "      <td>2005-5</td>\n",
       "      <td>6</td>\n",
       "    </tr>\n",
       "  </tbody>\n",
       "</table>\n",
       "</div>"
      ],
      "text/plain": [
       "    ss_dt  rental_id\n",
       "0  2005-5          2\n",
       "1  2005-5          3\n",
       "2  2005-5          4\n",
       "3  2005-5          5\n",
       "4  2005-5          6"
      ]
     },
     "execution_count": 36,
     "metadata": {},
     "output_type": "execute_result"
    }
   ],
   "source": [
    "target_df.head()"
   ]
  },
  {
   "cell_type": "code",
   "execution_count": 37,
   "metadata": {},
   "outputs": [
    {
     "data": {
      "text/html": [
       "<div>\n",
       "<style scoped>\n",
       "    .dataframe tbody tr th:only-of-type {\n",
       "        vertical-align: middle;\n",
       "    }\n",
       "\n",
       "    .dataframe tbody tr th {\n",
       "        vertical-align: top;\n",
       "    }\n",
       "\n",
       "    .dataframe thead th {\n",
       "        text-align: right;\n",
       "    }\n",
       "</style>\n",
       "<table border=\"1\" class=\"dataframe\">\n",
       "  <thead>\n",
       "    <tr style=\"text-align: right;\">\n",
       "      <th></th>\n",
       "      <th>ss_date</th>\n",
       "      <th>rental_id</th>\n",
       "    </tr>\n",
       "  </thead>\n",
       "  <tbody>\n",
       "    <tr>\n",
       "      <th>0</th>\n",
       "      <td>2005-12</td>\n",
       "      <td>2</td>\n",
       "    </tr>\n",
       "    <tr>\n",
       "      <th>1</th>\n",
       "      <td>2005-11</td>\n",
       "      <td>3</td>\n",
       "    </tr>\n",
       "    <tr>\n",
       "      <th>2</th>\n",
       "      <td>2005-10</td>\n",
       "      <td>4</td>\n",
       "    </tr>\n",
       "    <tr>\n",
       "      <th>3</th>\n",
       "      <td>2005-9</td>\n",
       "      <td>5</td>\n",
       "    </tr>\n",
       "    <tr>\n",
       "      <th>4</th>\n",
       "      <td>2005-10</td>\n",
       "      <td>6</td>\n",
       "    </tr>\n",
       "  </tbody>\n",
       "</table>\n",
       "</div>"
      ],
      "text/plain": [
       "   ss_date  rental_id\n",
       "0  2005-12          2\n",
       "1  2005-11          3\n",
       "2  2005-10          4\n",
       "3   2005-9          5\n",
       "4  2005-10          6"
      ]
     },
     "execution_count": 37,
     "metadata": {},
     "output_type": "execute_result"
    }
   ],
   "source": [
    "source_df.head()"
   ]
  },
  {
   "cell_type": "code",
   "execution_count": 38,
   "metadata": {},
   "outputs": [
    {
     "name": "stdout",
     "output_type": "stream",
     "text": [
      "Commencing count test for rental_id...\n",
      "  Commencing rental_id query...\n",
      "  Query for rental_id complete.\n",
      "PRIORITY REVIEW on alt_rental_id: 67.73\n",
      "Test for rental_id complete.\n",
      "\n"
     ]
    }
   ],
   "source": [
    "tester.test_type = 'count'\n",
    "tester.run_test()"
   ]
  },
  {
   "cell_type": "code",
   "execution_count": 39,
   "metadata": {},
   "outputs": [
    {
     "data": {
      "text/html": [
       "<div>\n",
       "<style scoped>\n",
       "    .dataframe tbody tr th:only-of-type {\n",
       "        vertical-align: middle;\n",
       "    }\n",
       "\n",
       "    .dataframe tbody tr th {\n",
       "        vertical-align: top;\n",
       "    }\n",
       "\n",
       "    .dataframe thead th {\n",
       "        text-align: right;\n",
       "    }\n",
       "</style>\n",
       "<table border=\"1\" class=\"dataframe\">\n",
       "  <thead>\n",
       "    <tr style=\"text-align: right;\">\n",
       "      <th></th>\n",
       "      <th>date</th>\n",
       "      <th>ss_dt</th>\n",
       "      <th>rvw_count</th>\n",
       "      <th>alt_count</th>\n",
       "      <th>rvw_minus_alt</th>\n",
       "      <th>perc_diff_alt</th>\n",
       "    </tr>\n",
       "  </thead>\n",
       "  <tbody>\n",
       "    <tr>\n",
       "      <th>0</th>\n",
       "      <td>10-Aug-19</td>\n",
       "      <td>2005-5</td>\n",
       "      <td>1156</td>\n",
       "      <td>417</td>\n",
       "      <td>739</td>\n",
       "      <td>63.93</td>\n",
       "    </tr>\n",
       "    <tr>\n",
       "      <th>1</th>\n",
       "      <td>10-Aug-19</td>\n",
       "      <td>2005-6</td>\n",
       "      <td>2311</td>\n",
       "      <td>1856</td>\n",
       "      <td>455</td>\n",
       "      <td>19.69</td>\n",
       "    </tr>\n",
       "    <tr>\n",
       "      <th>2</th>\n",
       "      <td>10-Aug-19</td>\n",
       "      <td>2005-7</td>\n",
       "      <td>6709</td>\n",
       "      <td>1795</td>\n",
       "      <td>4914</td>\n",
       "      <td>73.24</td>\n",
       "    </tr>\n",
       "    <tr>\n",
       "      <th>3</th>\n",
       "      <td>10-Aug-19</td>\n",
       "      <td>2005-8</td>\n",
       "      <td>5686</td>\n",
       "      <td>1835</td>\n",
       "      <td>3851</td>\n",
       "      <td>67.73</td>\n",
       "    </tr>\n",
       "    <tr>\n",
       "      <th>4</th>\n",
       "      <td>10-Aug-19</td>\n",
       "      <td>2006-2</td>\n",
       "      <td>182</td>\n",
       "      <td>857</td>\n",
       "      <td>-675</td>\n",
       "      <td>-370.88</td>\n",
       "    </tr>\n",
       "  </tbody>\n",
       "</table>\n",
       "</div>"
      ],
      "text/plain": [
       "        date   ss_dt  rvw_count  alt_count  rvw_minus_alt  perc_diff_alt\n",
       "0  10-Aug-19  2005-5       1156        417            739          63.93\n",
       "1  10-Aug-19  2005-6       2311       1856            455          19.69\n",
       "2  10-Aug-19  2005-7       6709       1795           4914          73.24\n",
       "3  10-Aug-19  2005-8       5686       1835           3851          67.73\n",
       "4  10-Aug-19  2006-2        182        857           -675        -370.88"
      ]
     },
     "execution_count": 39,
     "metadata": {},
     "output_type": "execute_result"
    }
   ],
   "source": [
    "tester._results"
   ]
  },
  {
   "cell_type": "code",
   "execution_count": 40,
   "metadata": {},
   "outputs": [],
   "source": [
    "tester._results.index = tester._results['ss_dt']\n",
    "tester._results.drop('ss_dt', axis=1, inplace=True)\n",
    "\n",
    "target_in_source_name = 'rvw_missing_in_alt'\n",
    "source_in_target_name = 'alt_missing_in_rvw'\n",
    "\n",
    "tester._results[target_in_source_name] = np.nan\n",
    "tester._results[source_in_target_name] = np.nan"
   ]
  },
  {
   "cell_type": "code",
   "execution_count": 41,
   "metadata": {},
   "outputs": [
    {
     "data": {
      "text/plain": [
       "Index(['2005-5', '2005-6', '2005-7', '2005-8', '2006-2'], dtype='object', name='ss_dt')"
      ]
     },
     "execution_count": 41,
     "metadata": {},
     "output_type": "execute_result"
    }
   ],
   "source": [
    "tester._results.index"
   ]
  },
  {
   "cell_type": "code",
   "execution_count": 44,
   "metadata": {},
   "outputs": [],
   "source": [
    "is_ind_target = target_df['ss_dt'] == '2005-5'\n",
    "is_ind_source = source_df['ss_date'] == '2005-5'\n",
    "\n",
    "target_in_source = target_df.loc[is_ind_target, 'rental_id']\\\n",
    "                   .isin(source_df.loc[is_ind_source, 'rental_id'])\n",
    "source_in_target = source_df.loc[is_ind_source, 'rental_id']\\\n",
    "                   .isin(target_df.loc[is_ind_target, 'rental_id'])"
   ]
  },
  {
   "cell_type": "code",
   "execution_count": 47,
   "metadata": {
    "scrolled": true
   },
   "outputs": [
    {
     "data": {
      "text/plain": [
       "1120"
      ]
     },
     "execution_count": 47,
     "metadata": {},
     "output_type": "execute_result"
    }
   ],
   "source": [
    "target_df.loc[~target_in_source & is_ind_target, 'rental_id'].values.shape[0]"
   ]
  },
  {
   "cell_type": "markdown",
   "metadata": {},
   "source": [
    "<a id='string'></a>\n",
    "## Create Test String"
   ]
  },
  {
   "cell_type": "code",
   "execution_count": 21,
   "metadata": {},
   "outputs": [
    {
     "name": "stdout",
     "output_type": "stream",
     "text": [
      "WITH rvw AS (SELECT ss_dt, COUNT(*) AS row_count FROM rental_view GROUP BY ss_dt), alt AS (SELECT ss_date, COUNT(*) AS row_count FROM alt_rental_view GROUP BY ss_date), sim AS (SELECT ss_dt, COUNT(*) AS row_count FROM alt_sim_rental_view GROUP BY ss_dt) SELECT rvw.ss_dt, rvw.row_count AS rvw_count, alt.row_count AS alt_count, sim.row_count AS sim_count FROM rvw JOIN alt ON alt.ss_date = rvw.ss_dt JOIN sim ON sim.ss_dt = rvw.ss_dt ORDER BY rvw.ss_dt\n",
      "  Commencing rental_id query...\n",
      "  Query for rental_id complete.\n"
     ]
    },
    {
     "data": {
      "text/html": [
       "<div>\n",
       "<style scoped>\n",
       "    .dataframe tbody tr th:only-of-type {\n",
       "        vertical-align: middle;\n",
       "    }\n",
       "\n",
       "    .dataframe tbody tr th {\n",
       "        vertical-align: top;\n",
       "    }\n",
       "\n",
       "    .dataframe thead th {\n",
       "        text-align: right;\n",
       "    }\n",
       "</style>\n",
       "<table border=\"1\" class=\"dataframe\">\n",
       "  <thead>\n",
       "    <tr style=\"text-align: right;\">\n",
       "      <th></th>\n",
       "      <th>ss_dt</th>\n",
       "      <th>rvw_count</th>\n",
       "      <th>alt_count</th>\n",
       "      <th>sim_count</th>\n",
       "    </tr>\n",
       "  </thead>\n",
       "  <tbody>\n",
       "    <tr>\n",
       "      <th>0</th>\n",
       "      <td>2005-5</td>\n",
       "      <td>1156</td>\n",
       "      <td>417</td>\n",
       "      <td>1140</td>\n",
       "    </tr>\n",
       "    <tr>\n",
       "      <th>1</th>\n",
       "      <td>2005-6</td>\n",
       "      <td>2311</td>\n",
       "      <td>1856</td>\n",
       "      <td>2287</td>\n",
       "    </tr>\n",
       "    <tr>\n",
       "      <th>2</th>\n",
       "      <td>2005-7</td>\n",
       "      <td>6709</td>\n",
       "      <td>1795</td>\n",
       "      <td>6630</td>\n",
       "    </tr>\n",
       "    <tr>\n",
       "      <th>3</th>\n",
       "      <td>2005-8</td>\n",
       "      <td>5686</td>\n",
       "      <td>1835</td>\n",
       "      <td>5610</td>\n",
       "    </tr>\n",
       "    <tr>\n",
       "      <th>4</th>\n",
       "      <td>2006-2</td>\n",
       "      <td>182</td>\n",
       "      <td>857</td>\n",
       "      <td>179</td>\n",
       "    </tr>\n",
       "  </tbody>\n",
       "</table>\n",
       "</div>"
      ],
      "text/plain": [
       "    ss_dt  rvw_count  alt_count  sim_count\n",
       "0  2005-5       1156        417       1140\n",
       "1  2005-6       2311       1856       2287\n",
       "2  2005-7       6709       1795       6630\n",
       "3  2005-8       5686       1835       5610\n",
       "4  2006-2        182        857        179"
      ]
     },
     "execution_count": 21,
     "metadata": {},
     "output_type": "execute_result"
    }
   ],
   "source": [
    "reload(san);\n",
    "\n",
    "# Specify table fields - \"target\" table is first\n",
    "comparison_fields = ('rental_id','rental_id', 'id')\n",
    "groupby_fields = ('ss_dt', 'ss_date', 'ss_dt')\n",
    "table_names = ('rental_view', 'alt_rental_view', 'alt_sim_rental_view')\n",
    "table_alias = ('rvw', 'alt', 'sim')\n",
    "\n",
    "# Create data gatherer\n",
    "tester = san.SQLUnitTest(comparison_fields,\n",
    "                         groupby_fields,\n",
    "                         table_names,\n",
    "                         table_alias,\n",
    "                         db_server='dvd',\n",
    "                         test_type='count')\n",
    "\n",
    "tester.create_test_string()\n",
    "\n",
    "print(tester._test_str)\n",
    "\n",
    "tester.gather_data()"
   ]
  },
  {
   "cell_type": "markdown",
   "metadata": {},
   "source": [
    "<a id='tables'></a>\n",
    "## Compare Tables"
   ]
  },
  {
   "cell_type": "code",
   "execution_count": 6,
   "metadata": {},
   "outputs": [],
   "source": [
    "reload(san);"
   ]
  },
  {
   "cell_type": "code",
   "execution_count": 7,
   "metadata": {},
   "outputs": [
    {
     "name": "stdout",
     "output_type": "stream",
     "text": [
      "Commencing count test for rental_id...\n",
      "  Commencing rental_id query...\n",
      "  Query for rental_id complete.\n",
      "PRIORITY REVIEW on rental_id_alt: 67.73\n",
      "Test for rental_id complete.\n",
      "\n",
      "Commencing high_distinct test for rental_date...\n",
      "  Commencing rental_date query...\n",
      "  Query for rental_date complete.\n",
      "PRIORITY REVIEW on rental_date_alt: 210.0\n",
      "Test for rental_date complete.\n",
      "\n",
      "Commencing high_distinct test for title...\n",
      "  Commencing title query...\n",
      "  Query for title complete.\n",
      "PRIORITY REVIEW on title_alt: 19.1\n",
      "Test for title complete.\n",
      "\n",
      "Commencing low_distinct test for rating...\n",
      "  Commencing rating query...\n",
      "  Query for rating complete.\n",
      "PRIORITY REVIEW on rating_alt: 68.72\n",
      "Test for rating complete.\n",
      "\n",
      "Commencing numeric test for length...\n",
      "  Commencing length query...\n",
      "  Query for length complete.\n",
      "PRIORITY REVIEW on length_alt: 67.76\n",
      "Test for length complete.\n",
      "\n"
     ]
    },
    {
     "data": {
      "image/png": "[encoded data removed]",
      "text/plain": [
       "<Figure size 540x396 with 2 Axes>"
      ]
     },
     "metadata": {
      "needs_background": "light"
     },
     "output_type": "display_data"
    }
   ],
   "source": [
    "groupby_fields = ('ss_dt', 'ss_date', 'ss_dt')\n",
    "table_names = ('rental_view', 'alt_rental_view', 'alt_sim_rental_view')\n",
    "table_alias = ('rvw', 'alt', 'sim')\n",
    "id_fields = ('rental_id','rental_id', 'id')\n",
    "high_distinct_fields = [('rental_date', 'rental_date', 'rental_date'),\n",
    "                 ('title', 'title', 'movie')]\n",
    "low_distinct_fields = [('rating','rating', 'rating')]\n",
    "numeric_fields = [('length', 'length', 'runtime')]\n",
    "\n",
    "summary, tester = st.compare_tables(table_names, table_alias, groupby_fields,\n",
    "                                    id_fields, 'dvd', high_distinct_fields, \n",
    "                   low_distinct_fields, numeric_fields, 'results', 2,\n",
    "                   {'summary_type': 'image',\n",
    "                    'save_type': 'image'})"
   ]
  },
  {
   "cell_type": "code",
   "execution_count": 8,
   "metadata": {},
   "outputs": [
    {
     "data": {
      "text/plain": [
       "{'rental_date': sqlalchemy.exc.ProgrammingError('(psycopg2.errors.UndefinedColumn) column \"rental_dt\" does not exist\\nLINE 1: ...BY ss_date), sim AS (SELECT ss_dt, COUNT(DISTINCT rental_dt)...\\n                                                             ^\\nHINT:  Perhaps you meant to reference the column \"alt_sim_rental_view.rental_date\".\\n')}"
      ]
     },
     "execution_count": 8,
     "metadata": {},
     "output_type": "execute_result"
    }
   ],
   "source": [
    "tester._exceptions"
   ]
  },
  {
   "cell_type": "code",
   "execution_count": 60,
   "metadata": {},
   "outputs": [
    {
     "data": {
      "text/plain": [
       "{'rental_id_alt': 'PRIORITY REVIEW on rental_id_alt: 67.73',\n",
       " 'rental_date_alt': 'PRIORITY REVIEW on rental_date_alt: 210.0',\n",
       " 'title_alt': 'PRIORITY REVIEW on title_alt: 19.1',\n",
       " 'rating_alt': 'PRIORITY REVIEW on rating_alt: 68.72',\n",
       " 'length_alt': 'PRIORITY REVIEW on length_alt: 67.76'}"
      ]
     },
     "execution_count": 60,
     "metadata": {},
     "output_type": "execute_result"
    }
   ],
   "source": [
    "tester._priority_review"
   ]
  },
  {
   "cell_type": "markdown",
   "metadata": {},
   "source": [
    "<a id='input'></a>\n",
    "## Input Tests"
   ]
  },
  {
   "cell_type": "code",
   "execution_count": 60,
   "metadata": {
    "scrolled": false
   },
   "outputs": [
    {
     "data": {
      "text/plain": [
       "<module 'sql_input_tests' from 'C:\\\\Users\\\\rebecca\\\\Git-Hub-Repos\\\\sql_analysis\\\\sql_input_tests.py'>"
      ]
     },
     "execution_count": 60,
     "metadata": {},
     "output_type": "execute_result"
    }
   ],
   "source": [
    "reload(sqlit)"
   ]
  },
  {
   "cell_type": "code",
   "execution_count": 31,
   "metadata": {},
   "outputs": [
    {
     "ename": "ValueError",
     "evalue": "'abacus' is not a valid collection variable. Use a value from ('a', 'b', 'c').",
     "output_type": "error",
     "traceback": [
      "\u001b[1;31m---------------------------------------------------------------------------\u001b[0m",
      "\u001b[1;31mValueError\u001b[0m                                Traceback (most recent call last)",
      "\u001b[1;32m<ipython-input-31-541c87892d64>\u001b[0m in \u001b[0;36m<module>\u001b[1;34m\u001b[0m\n\u001b[0;32m      2\u001b[0m \u001b[0mmy_collection\u001b[0m \u001b[1;33m=\u001b[0m \u001b[1;33m(\u001b[0m\u001b[1;34m'a'\u001b[0m\u001b[1;33m,\u001b[0m \u001b[1;34m'b'\u001b[0m\u001b[1;33m,\u001b[0m \u001b[1;34m'c'\u001b[0m\u001b[1;33m)\u001b[0m\u001b[1;33m\u001b[0m\u001b[1;33m\u001b[0m\u001b[0m\n\u001b[0;32m      3\u001b[0m \u001b[1;33m\u001b[0m\u001b[0m\n\u001b[1;32m----> 4\u001b[1;33m \u001b[0msqlit\u001b[0m\u001b[1;33m.\u001b[0m\u001b[0mtest_in_collection\u001b[0m\u001b[1;33m(\u001b[0m\u001b[0mmy_variable\u001b[0m\u001b[1;33m,\u001b[0m \u001b[0mmy_collection\u001b[0m\u001b[1;33m,\u001b[0m \u001b[1;34m'collection variable'\u001b[0m\u001b[1;33m)\u001b[0m\u001b[1;33m\u001b[0m\u001b[1;33m\u001b[0m\u001b[0m\n\u001b[0m",
      "\u001b[1;32m~\\Git-Hub-Repos\\sql_analysis\\sql_input_tests.py\u001b[0m in \u001b[0;36mtest_in_collection\u001b[1;34m(variable, collection, collection_name)\u001b[0m\n\u001b[0;32m     15\u001b[0m         raise ValueError(\n\u001b[0;32m     16\u001b[0m             \u001b[1;34m\"'{}' is not a valid {}. \"\u001b[0m\u001b[1;33m\u001b[0m\u001b[1;33m\u001b[0m\u001b[0m\n\u001b[1;32m---> 17\u001b[1;33m             \u001b[1;34m\"Use a value from {}.\"\u001b[0m\u001b[1;33m.\u001b[0m\u001b[0mformat\u001b[0m\u001b[1;33m(\u001b[0m\u001b[0mvariable\u001b[0m\u001b[1;33m,\u001b[0m \u001b[0mcollection_name\u001b[0m\u001b[1;33m,\u001b[0m \u001b[0mcollection\u001b[0m\u001b[1;33m)\u001b[0m\u001b[1;33m\u001b[0m\u001b[1;33m\u001b[0m\u001b[0m\n\u001b[0m\u001b[0;32m     18\u001b[0m             )\n\u001b[0;32m     19\u001b[0m \u001b[1;33m\u001b[0m\u001b[0m\n",
      "\u001b[1;31mValueError\u001b[0m: 'abacus' is not a valid collection variable. Use a value from ('a', 'b', 'c')."
     ]
    }
   ],
   "source": [
    "my_variable = 'abacus'\n",
    "my_collection = ('a', 'b', 'c')\n",
    "\n",
    "sqlit.test_in_collection(my_variable, my_collection, 'collection variable')"
   ]
  },
  {
   "cell_type": "code",
   "execution_count": 37,
   "metadata": {
    "scrolled": false
   },
   "outputs": [
    {
     "ename": "AttributeError",
     "evalue": "Unable to save results, the 'save_location' attribute is empty. Either add a location to the 'save_location' attribute or use 'save_type' to adjust the summary save options.",
     "output_type": "error",
     "traceback": [
      "\u001b[1;31m---------------------------------------------------------------------------\u001b[0m",
      "\u001b[1;31mAttributeError\u001b[0m                            Traceback (most recent call last)",
      "\u001b[1;32m<ipython-input-37-ff4d94cf0563>\u001b[0m in \u001b[0;36m<module>\u001b[1;34m\u001b[0m\n\u001b[1;32m----> 1\u001b[1;33m \u001b[0msqlit\u001b[0m\u001b[1;33m.\u001b[0m\u001b[0mtest_input_comp_tables\u001b[0m\u001b[1;33m(\u001b[0m\u001b[1;32mNone\u001b[0m\u001b[1;33m,\u001b[0m \u001b[1;33m{\u001b[0m\u001b[1;34m'save_type'\u001b[0m\u001b[1;33m:\u001b[0m \u001b[1;34m'both'\u001b[0m\u001b[1;33m}\u001b[0m\u001b[1;33m)\u001b[0m\u001b[1;33m\u001b[0m\u001b[1;33m\u001b[0m\u001b[0m\n\u001b[0m",
      "\u001b[1;32m~\\Git-Hub-Repos\\sql_analysis\\sql_input_tests.py\u001b[0m in \u001b[0;36mtest_input_comp_tables\u001b[1;34m(save_location, summ_kwargs)\u001b[0m\n\u001b[0;32m    105\u001b[0m         \u001b[1;32mfor\u001b[0m \u001b[0mkey\u001b[0m\u001b[1;33m,\u001b[0m \u001b[0mvalue\u001b[0m \u001b[1;32min\u001b[0m \u001b[0msumm_kwargs\u001b[0m\u001b[1;33m.\u001b[0m\u001b[0mitems\u001b[0m\u001b[1;33m(\u001b[0m\u001b[1;33m)\u001b[0m\u001b[1;33m:\u001b[0m\u001b[1;33m\u001b[0m\u001b[1;33m\u001b[0m\u001b[0m\n\u001b[0;32m    106\u001b[0m             \u001b[1;32mif\u001b[0m \u001b[0mkey\u001b[0m \u001b[1;33m==\u001b[0m \u001b[1;34m'save_type'\u001b[0m \u001b[1;32mand\u001b[0m \u001b[0mvalue\u001b[0m \u001b[1;32mand\u001b[0m \u001b[1;32mnot\u001b[0m \u001b[0msave_location\u001b[0m\u001b[1;33m:\u001b[0m\u001b[1;33m\u001b[0m\u001b[1;33m\u001b[0m\u001b[0m\n\u001b[1;32m--> 107\u001b[1;33m                 \u001b[0mno_save_location\u001b[0m\u001b[1;33m(\u001b[0m\u001b[1;33m)\u001b[0m\u001b[1;33m\u001b[0m\u001b[1;33m\u001b[0m\u001b[0m\n\u001b[0m",
      "\u001b[1;32m~\\Git-Hub-Repos\\sql_analysis\\sql_input_tests.py\u001b[0m in \u001b[0;36mno_save_location\u001b[1;34m()\u001b[0m\n\u001b[0;32m     21\u001b[0m     \u001b[1;34m\"\"\"Raise AttributeError\"\"\"\u001b[0m\u001b[1;33m\u001b[0m\u001b[1;33m\u001b[0m\u001b[0m\n\u001b[0;32m     22\u001b[0m     raise AttributeError(\n\u001b[1;32m---> 23\u001b[1;33m         \u001b[1;34m\"Unable to save results, the 'save_location' attribute is empty. \"\u001b[0m\u001b[1;33m\u001b[0m\u001b[1;33m\u001b[0m\u001b[0m\n\u001b[0m\u001b[0;32m     24\u001b[0m         \u001b[1;34m\"Either add a location to the 'save_location' attribute or use 'save_type' \"\u001b[0m\u001b[1;33m\u001b[0m\u001b[1;33m\u001b[0m\u001b[0m\n\u001b[0;32m     25\u001b[0m         \u001b[1;34m\"to adjust the summary save options.\"\u001b[0m\u001b[1;33m\u001b[0m\u001b[1;33m\u001b[0m\u001b[0m\n",
      "\u001b[1;31mAttributeError\u001b[0m: Unable to save results, the 'save_location' attribute is empty. Either add a location to the 'save_location' attribute or use 'save_type' to adjust the summary save options."
     ]
    }
   ],
   "source": [
    "sqlit.test_input_comp_tables(None, {'save_type': 'both'})"
   ]
  },
  {
   "cell_type": "code",
   "execution_count": 41,
   "metadata": {
    "scrolled": true
   },
   "outputs": [
    {
     "ename": "ValueError",
     "evalue": "Only two fields can be compared at a time when using 'compare_ids'. id_fields contais 3 values.",
     "output_type": "error",
     "traceback": [
      "\u001b[1;31m---------------------------------------------------------------------------\u001b[0m",
      "\u001b[1;31mValueError\u001b[0m                                Traceback (most recent call last)",
      "\u001b[1;32m<ipython-input-41-37023927a760>\u001b[0m in \u001b[0;36m<module>\u001b[1;34m\u001b[0m\n\u001b[1;32m----> 1\u001b[1;33m \u001b[0msqlit\u001b[0m\u001b[1;33m.\u001b[0m\u001b[0mtest_input_ut_ids\u001b[0m\u001b[1;33m(\u001b[0m\u001b[1;33m[\u001b[0m\u001b[1;34m'abe'\u001b[0m\u001b[1;33m,\u001b[0m \u001b[1;34m'abc'\u001b[0m\u001b[1;33m]\u001b[0m\u001b[1;33m,\u001b[0m \u001b[1;33m[\u001b[0m\u001b[1;34m'1'\u001b[0m\u001b[1;33m,\u001b[0m \u001b[1;34m'3'\u001b[0m\u001b[1;33m,\u001b[0m \u001b[1;34m'2'\u001b[0m\u001b[1;33m]\u001b[0m\u001b[1;33m)\u001b[0m\u001b[1;33m\u001b[0m\u001b[1;33m\u001b[0m\u001b[0m\n\u001b[0m",
      "\u001b[1;32m~\\Git-Hub-Repos\\sql_analysis\\sql_input_tests.py\u001b[0m in \u001b[0;36mtest_input_ut_ids\u001b[1;34m(table_alias, id_fields)\u001b[0m\n\u001b[0;32m     73\u001b[0m             raise ValueError(\n\u001b[0;32m     74\u001b[0m                 \u001b[1;34m\"Only two fields can be compared at a time when using 'compare_ids'. \"\u001b[0m\u001b[1;33m\u001b[0m\u001b[1;33m\u001b[0m\u001b[0m\n\u001b[1;32m---> 75\u001b[1;33m                 \u001b[1;34m\"{} contais {} values.\"\u001b[0m\u001b[1;33m.\u001b[0m\u001b[0mformat\u001b[0m\u001b[1;33m(\u001b[0m\u001b[0mname\u001b[0m\u001b[1;33m,\u001b[0m \u001b[0mlen\u001b[0m\u001b[1;33m(\u001b[0m\u001b[0mfield\u001b[0m\u001b[1;33m)\u001b[0m\u001b[1;33m)\u001b[0m\u001b[1;33m\u001b[0m\u001b[1;33m\u001b[0m\u001b[0m\n\u001b[0m\u001b[0;32m     76\u001b[0m                 )\n\u001b[0;32m     77\u001b[0m \u001b[1;33m\u001b[0m\u001b[0m\n",
      "\u001b[1;31mValueError\u001b[0m: Only two fields can be compared at a time when using 'compare_ids'. id_fields contais 3 values."
     ]
    }
   ],
   "source": [
    "sqlit.test_input_ut_ids(['abe', 'abc'], ['1', '3', '2'])"
   ]
  },
  {
   "cell_type": "code",
   "execution_count": 43,
   "metadata": {},
   "outputs": [
    {
     "ename": "ValueError",
     "evalue": "The 'run_test' method cannot be used to complete the 'id_check' test. Please use the 'compare_ids' method instead.",
     "output_type": "error",
     "traceback": [
      "\u001b[1;31m---------------------------------------------------------------------------\u001b[0m",
      "\u001b[1;31mValueError\u001b[0m                                Traceback (most recent call last)",
      "\u001b[1;32m<ipython-input-43-1801e4e280fa>\u001b[0m in \u001b[0;36m<module>\u001b[1;34m\u001b[0m\n\u001b[1;32m----> 1\u001b[1;33m \u001b[0msqlit\u001b[0m\u001b[1;33m.\u001b[0m\u001b[0mtest_input_ut_runtest\u001b[0m\u001b[1;33m(\u001b[0m\u001b[1;34m'id_check'\u001b[0m\u001b[1;33m)\u001b[0m\u001b[1;33m\u001b[0m\u001b[1;33m\u001b[0m\u001b[0m\n\u001b[0m",
      "\u001b[1;32m~\\Git-Hub-Repos\\sql_analysis\\sql_input_tests.py\u001b[0m in \u001b[0;36mtest_input_ut_runtest\u001b[1;34m(test_type)\u001b[0m\n\u001b[0;32m     62\u001b[0m     \u001b[1;32mif\u001b[0m \u001b[0mtest_type\u001b[0m \u001b[1;33m==\u001b[0m \u001b[1;34m'id_check'\u001b[0m\u001b[1;33m:\u001b[0m\u001b[1;33m\u001b[0m\u001b[1;33m\u001b[0m\u001b[0m\n\u001b[0;32m     63\u001b[0m         raise ValueError(\n\u001b[1;32m---> 64\u001b[1;33m             \u001b[1;34m\"The 'run_test' method cannot be used to complete the 'id_check' test. \"\u001b[0m\u001b[1;33m\u001b[0m\u001b[1;33m\u001b[0m\u001b[0m\n\u001b[0m\u001b[0;32m     65\u001b[0m             \u001b[1;34m\"Please use the 'compare_ids' method instead.\"\u001b[0m\u001b[1;33m\u001b[0m\u001b[1;33m\u001b[0m\u001b[0m\n\u001b[0;32m     66\u001b[0m         )\n",
      "\u001b[1;31mValueError\u001b[0m: The 'run_test' method cannot be used to complete the 'id_check' test. Please use the 'compare_ids' method instead."
     ]
    }
   ],
   "source": [
    "sqlit.test_input_ut_runtest('id_check')"
   ]
  },
  {
   "cell_type": "markdown",
   "metadata": {},
   "source": [
    "<a id='detect'></a>\n",
    "## Detect Type"
   ]
  },
  {
   "cell_type": "code",
   "execution_count": 45,
   "metadata": {},
   "outputs": [],
   "source": [
    "reload(san);"
   ]
  },
  {
   "cell_type": "code",
   "execution_count": 18,
   "metadata": {},
   "outputs": [
    {
     "name": "stdout",
     "output_type": "stream",
     "text": [
      "rental_id : numeric\n",
      "rental_date : high_distinct\n",
      "title : high_distinct\n",
      "rating : low_distinct\n",
      "length : numeric\n"
     ]
    }
   ],
   "source": [
    "for field in ('rental_id', 'rental_date', 'title', 'rating', 'length'):\n",
    "    print(field, ':', san.detect_field_type('rental_view', field, 'dvd'))"
   ]
  },
  {
   "cell_type": "code",
   "execution_count": 30,
   "metadata": {},
   "outputs": [
    {
     "data": {
      "text/plain": [
       "(FieldList(test_type='numeric', field_names=['rental_id', 'length']),\n",
       " FieldList(test_type='high_distinct', field_names=['rental_date', 'title']),\n",
       " FieldList(test_type='low_distinct', field_names=['rating']))"
      ]
     },
     "execution_count": 30,
     "metadata": {},
     "output_type": "execute_result"
    }
   ],
   "source": [
    "fields = ('rental_id', 'rental_date', 'title', 'rating', 'length')\n",
    "numeric, high_distinct, low_distinct = san.collect_field_type('rental_view', fields, 'dvd')\n",
    "numeric, high_distinct, low_distinct"
   ]
  },
  {
   "cell_type": "code",
   "execution_count": 32,
   "metadata": {},
   "outputs": [
    {
     "data": {
      "text/plain": [
       "('numeric', ['rental_id', 'length'])"
      ]
     },
     "execution_count": 32,
     "metadata": {},
     "output_type": "execute_result"
    }
   ],
   "source": [
    "numeric.test_type, numeric.field_names"
   ]
  },
  {
   "cell_type": "code",
   "execution_count": 3,
   "metadata": {},
   "outputs": [
    {
     "name": "stdout",
     "output_type": "stream",
     "text": [
      "Commencing count test for rental_id...\n",
      "  Commencing rental_id query...\n",
      "  Query for rental_id complete.\n",
      "PRIORITY REVIEW on rental_id_alt: 67.73\n",
      "Test for rental_id complete.\n",
      "\n",
      "Commencing high_distinct test for rental_date...\n",
      "  Commencing rental_date query...\n",
      "  Query for rental_date complete.\n",
      "PRIORITY REVIEW on rental_date_alt: 210.0\n",
      "Test for rental_date complete.\n",
      "\n",
      "Commencing high_distinct test for title...\n",
      "  Commencing title query...\n",
      "  Query for title complete.\n",
      "PRIORITY REVIEW on title_alt: 19.1\n",
      "Test for title complete.\n",
      "\n",
      "Commencing low_distinct test for rating...\n",
      "  Commencing rating query...\n",
      "  Query for rating complete.\n",
      "PRIORITY REVIEW on rating_alt: 68.72\n",
      "Test for rating complete.\n",
      "\n",
      "Commencing numeric test for length...\n",
      "  Commencing length query...\n",
      "  Query for length complete.\n",
      "PRIORITY REVIEW on length_alt: 67.76\n",
      "Test for length complete.\n",
      "\n"
     ]
    },
    {
     "data": {
      "image/png": "[encoded data removed]",
      "text/plain": [
       "<Figure size 540x396 with 2 Axes>"
      ]
     },
     "metadata": {
      "needs_background": "light"
     },
     "output_type": "display_data"
    }
   ],
   "source": [
    "groupby_fields = ('ss_dt', 'ss_date', 'ss_dt')\n",
    "table_names = ('rental_view', 'alt_rental_view', 'alt_sim_rental_view')\n",
    "table_alias = ('rvw', 'alt', 'sim')\n",
    "id_fields = ('rental_id','rental_id', 'id')\n",
    "table_fields = [('rental_date', 'rental_date', 'rental_date'),\n",
    "                ('title', 'title', 'movie'),\n",
    "                ('rating','rating', 'rating'),\n",
    "                ('length', 'length', 'runtime')]\n",
    "\n",
    "summary, tester = st.compare_tables(table_names, table_alias, groupby_fields,\n",
    "                                    id_fields, table_fields, 'dvd', 'results', 2)"
   ]
  },
  {
   "cell_type": "code",
   "execution_count": 46,
   "metadata": {
    "scrolled": true
   },
   "outputs": [
    {
     "data": {
      "text/plain": [
       "[('index', 'rental_id', 'ss_dt'),\n",
       " ('ss_dt', 'rental_date', 'id'),\n",
       " ('rental_id', 'title', 'rental_date'),\n",
       " ('rental_date', 'length', 'movie'),\n",
       " ('title', 'rating', 'runtime'),\n",
       " ('length', 'ss_date', 'rating')]"
      ]
     },
     "execution_count": 46,
     "metadata": {},
     "output_type": "execute_result"
    }
   ],
   "source": [
    "san.collect_field_name(table_names, 'dvd')"
   ]
  },
  {
   "cell_type": "markdown",
   "metadata": {},
   "source": [
    "<a id='update'></a>\n",
    "## Update Attributes"
   ]
  },
  {
   "cell_type": "code",
   "execution_count": 36,
   "metadata": {},
   "outputs": [],
   "source": [
    "reload(st);"
   ]
  },
  {
   "cell_type": "code",
   "execution_count": 37,
   "metadata": {},
   "outputs": [],
   "source": [
    "groupby_fields = ('ss_dt', 'ss_date', 'ss_dt')\n",
    "table_names = ('rental_view', 'alt_rental_view', 'alt_sim_rental_view')\n",
    "table_alias = ('rvw', 'alt', 'sim')\n",
    "id_fields = ('rental_id','rental_id', 'id')\n",
    "table_fields = [('rental_date', 'rental_date', 'rental_date'),\n",
    "                ('title', 'title', 'movie'),\n",
    "                ('rating','rating', 'rating'),\n",
    "                ('length', 'length', 'runtime')]\n",
    "tester = st.SQLTest(table_names, table_alias, groupby_fields, id_fields, 'dvd', 'count')"
   ]
  },
  {
   "cell_type": "code",
   "execution_count": 39,
   "metadata": {},
   "outputs": [],
   "source": [
    "test_dict = {'comparison_fields': ('title', 'title', 'movie'),\n",
    "             'test_type': 'high_distinct', \n",
    "             '_test_str': \"SELECT * FROM rental_view\"}"
   ]
  },
  {
   "cell_type": "code",
   "execution_count": 13,
   "metadata": {},
   "outputs": [],
   "source": [
    "tester.__dict__.update(test_dict)"
   ]
  },
  {
   "cell_type": "code",
   "execution_count": 16,
   "metadata": {},
   "outputs": [
    {
     "data": {
      "text/plain": [
       "(('title', 'title', 'movie'),\n",
       " ('rental_view', 'alt_rental_view', 'alt_sim_rental_view'),\n",
       " 'high_distinct')"
      ]
     },
     "execution_count": 16,
     "metadata": {},
     "output_type": "execute_result"
    }
   ],
   "source": [
    "tester.comparison_fields, tester.table_names, tester.test_type"
   ]
  },
  {
   "cell_type": "code",
   "execution_count": 17,
   "metadata": {},
   "outputs": [
    {
     "data": {
      "text/plain": [
       "{'comparison_fields': ('title', 'title', 'movie'),\n",
       " 'groupby_fields': ('ss_dt', 'ss_date', 'ss_dt'),\n",
       " 'table_names': ('rental_view', 'alt_rental_view', 'alt_sim_rental_view'),\n",
       " 'table_alias': ('rvw', 'alt', 'sim'),\n",
       " 'db_server': 'dvd',\n",
       " 'test_type': 'high_distinct',\n",
       " 'save_location': None,\n",
       " '_test_str': None,\n",
       " '_results': None,\n",
       " '_summary': Empty DataFrame\n",
       " Columns: []\n",
       " Index: [],\n",
       " '_exceptions': {},\n",
       " '_priority_review': {},\n",
       " '_today_date': '190818',\n",
       " '_alt_date': '18-Aug-19'}"
      ]
     },
     "execution_count": 17,
     "metadata": {},
     "output_type": "execute_result"
    }
   ],
   "source": [
    "vars(tester)"
   ]
  },
  {
   "cell_type": "code",
   "execution_count": 45,
   "metadata": {},
   "outputs": [],
   "source": [
    "tester.update(test_dict)"
   ]
  },
  {
   "cell_type": "code",
   "execution_count": 41,
   "metadata": {},
   "outputs": [
    {
     "data": {
      "text/plain": [
       "{'comparison_fields': ('title', 'title', 'movie'),\n",
       " 'groupby_fields': ('ss_dt', 'ss_date', 'ss_dt'),\n",
       " 'table_names': ('rental_view', 'alt_rental_view', 'alt_sim_rental_view'),\n",
       " 'table_alias': ('rvw', 'alt', 'sim'),\n",
       " 'db_server': 'dvd',\n",
       " 'test_type': 'high_distinct',\n",
       " 'save_location': None,\n",
       " '_test_str': 'SELECT * FROM rental_view',\n",
       " '_results': None,\n",
       " '_summary': Empty DataFrame\n",
       " Columns: []\n",
       " Index: [],\n",
       " '_exceptions': {},\n",
       " '_priority_review': {},\n",
       " '_today_date': '190818',\n",
       " '_alt_date': '18-Aug-19'}"
      ]
     },
     "execution_count": 41,
     "metadata": {},
     "output_type": "execute_result"
    }
   ],
   "source": [
    "vars(tester)"
   ]
  }
 ],
 "metadata": {
  "kernelspec": {
   "display_name": "Python [conda env:sql]",
   "language": "python",
   "name": "conda-env-sql-py"
  },
  "language_info": {
   "codemirror_mode": {
    "name": "ipython",
    "version": 3
   },
   "file_extension": ".py",
   "mimetype": "text/x-python",
   "name": "python",
   "nbconvert_exporter": "python",
   "pygments_lexer": "ipython3",
   "version": "3.7.3"
  }
 },
 "nbformat": 4,
 "nbformat_minor": 2
}
